{
 "cells": [
  {
   "cell_type": "markdown",
   "metadata": {},
   "source": [
    "Novos Palíndromos\n",
    "========================================\n",
    "\n"
   ]
  },
  {
   "cell_type": "markdown",
   "metadata": {},
   "source": [
    "## Introdução\n",
    "\n"
   ]
  },
  {
   "cell_type": "markdown",
   "metadata": {},
   "source": [
    "Um palíndromo é uma palavra cuja inversa é igual à ela, ou seja, quando escrita de \"traz para frente\" forma a mesma palavra. Fique aqui com alguns exemplos de palídromos:\n",
    "- Arara\n",
    "- Hannah\n",
    "- Oroboro\n",
    "\n",
    "Tendo essa contrução em vista, pretendemos usar o algoritmo genético para encontrar novos palíndromos válidos para as condições descritas a seguir. Assim, testamos mais uma aplicabilidade desse tipo de algoritmo num caso com restrições, as quais podem ser modificadas para atender diferentes tipos de problemas mais relevantes de maneira semelhante a feita nesse caso simples."
   ]
  },
  {
   "cell_type": "markdown",
   "metadata": {},
   "source": [
    "## Objetivo\n",
    "\n"
   ]
  },
  {
   "cell_type": "markdown",
   "metadata": {},
   "source": [
    "Encontre pelo menos 10 palíndromos de 5 letras. Estes palíndromos devem ter pelo menos uma vogal. Não é necessário que eles formem palavras válidas em português ou qualquer outro idioma."
   ]
  },
  {
   "cell_type": "markdown",
   "metadata": {},
   "source": [
    "## Importações\n",
    "\n"
   ]
  },
  {
   "cell_type": "code",
   "execution_count": 1,
   "metadata": {},
   "outputs": [],
   "source": [
    "from funcoes import populacao_inicial_senha\n",
    "from funcoes import funcao_objetivo_pop_senha\n",
    "from funcoes import mutacao_senha\n",
    "from funcoes import selecao_torneio_min\n",
    "from funcoes import cruzamento_ponto_simples as funcao_cruzamento\n",
    "\n",
    "import random"
   ]
  },
  {
   "cell_type": "markdown",
   "metadata": {},
   "source": [
    "## Códigos e discussão\n",
    "\n"
   ]
  },
  {
   "cell_type": "code",
   "execution_count": 2,
   "metadata": {},
   "outputs": [],
   "source": [
    "#Funções Locais\n",
    "def funcao_objetivo_palindromo(individuo):\n",
    "    \"\"\"Computa a funcao objetivo de um individuo no problema do palíndromo\n",
    "\n",
    "    Args:\n",
    "      individiuo: lista contendo as letras do palíndromo\n",
    "\n",
    "    Returns:\n",
    "      diferenca: A diferenca é aumentada cada vez que o individuo é diferente de seu palíndromo e não possui vogais\n",
    "    \"\"\"\n",
    "    diferenca = 0\n",
    "    palindromo = individuo[::-1]\n",
    "    letras_vogais=\"aeiou\"\n",
    "    for letra_candidato, letra_palindromo in zip(individuo, palindromo):\n",
    "        if letra_candidato != letra_palindromo:\n",
    "            diferenca = diferenca + 1\n",
    "    \n",
    "    if any(letra in letras_vogais for letra in individuo):\n",
    "        pass\n",
    "    else:\n",
    "        diferenca = diferenca + 1\n",
    "        \n",
    "    return diferenca\n",
    "\n",
    "def funcao_objetivo_pop_palindromo(populacao):\n",
    "    \"\"\"Computa a funcao objetivo de uma populaçao no problema do palíndromo\n",
    "\n",
    "    Args:\n",
    "      populacao: lista com todos os individuos da população\n",
    "\n",
    "    Returns:\n",
    "      Lista contendo as diferencas de cada individuo\n",
    "    \"\"\"\n",
    "    resultado = []\n",
    "\n",
    "    for individuo in populacao:\n",
    "        resultado.append(funcao_objetivo_palindromo(individuo))\n",
    "    return resultado"
   ]
  },
  {
   "cell_type": "code",
   "execution_count": 3,
   "metadata": {},
   "outputs": [],
   "source": [
    "# Constantes\n",
    "\n",
    "TAMANHO_POP = 50\n",
    "NUM_GERACOES = 2000\n",
    "CHANCE_CRUZAMENTO = 0.1\n",
    "CHANCE_MUTACAO = 0.5\n",
    "NUM_COMBATENTES_NO_TORNEIO = 3\n",
    "\n",
    "# Palindromo\n",
    "LETRAS_POSSIVEIS = \"abcdefghijklmnopqrstuvwxyz\"\n",
    "LETRAS_VOGAIS = \"aeiou\"\n",
    "LETRAS_CONSOANTES = \"bcdfghjklmnpqrstvwxyz\"\n",
    "tamanho_palindromo = 5"
   ]
  },
  {
   "cell_type": "code",
   "execution_count": 4,
   "metadata": {},
   "outputs": [],
   "source": [
    "# funções locais\n",
    "\n",
    "def cria_populacao_inicial(tamanho, tamanho_palindromo):\n",
    "    return populacao_inicial_senha(tamanho, tamanho_palindromo, LETRAS_POSSIVEIS)\n",
    "\n",
    "def funcao_objetivo_pop(populacao):\n",
    "    return funcao_objetivo_pop_palindromo(populacao)\n",
    "\n",
    "def funcao_selecao(populacao, fitness):\n",
    "    return selecao_torneio_min(populacao, fitness, NUM_COMBATENTES_NO_TORNEIO)\n",
    "\n",
    "def funcao_mutacao(individuo):\n",
    "    return mutacao_senha(individuo, LETRAS_POSSIVEIS)"
   ]
  },
  {
   "cell_type": "code",
   "execution_count": 5,
   "metadata": {},
   "outputs": [
    {
     "name": "stdout",
     "output_type": "stream",
     "text": [
      "[['y', 'h', 'g', 'a', 'r'], ['c', 'b', 'j', 'e', 'j'], ['x', 'n', 'w', 'h', 'b'], ['u', 'a', 'd', 'n', 'l'], ['b', 'd', 'm', 'c', 'm'], ['g', 'q', 'b', 'p', 'e'], ['s', 'j', 'u', 'b', 'g'], ['x', 'v', 'g', 'e', 'u'], ['n', 'p', 'k', 'b', 'g'], ['r', 't', 'h', 'e', 'c'], ['z', 'x', 'l', 'p', 'p'], ['f', 'i', 'c', 'i', 'p'], ['x', 'k', 'p', 'c', 'c'], ['y', 'i', 'a', 'j', 'q'], ['f', 'g', 'g', 'k', 'e'], ['a', 'i', 'p', 'c', 'x'], ['n', 'e', 'y', 'l', 'i'], ['y', 'y', 'o', 'p', 'y'], ['x', 'w', 'm', 'f', 'q'], ['i', 'o', 'u', 'c', 'p'], ['h', 'o', 'i', 'l', 'a'], ['l', 'r', 'g', 'u', 'y'], ['t', 'x', 'l', 'g', 't'], ['w', 't', 'e', 'm', 'q'], ['y', 'v', 'm', 'w', 'e'], ['a', 'g', 't', 'v', 'k'], ['o', 'c', 'b', 'f', 'a'], ['j', 'o', 'c', 's', 'i'], ['g', 'x', 'o', 'u', 'h'], ['s', 'b', 'l', 'c', 'k'], ['s', 'f', 't', 'w', 'y'], ['h', 'g', 'l', 'g', 'z'], ['r', 's', 'n', 'd', 'j'], ['r', 'k', 'n', 's', 'k'], ['y', 'e', 'q', 'y', 'r'], ['k', 's', 'g', 's', 'u'], ['j', 't', 'k', 'y', 'h'], ['r', 'g', 'l', 'k', 'a'], ['r', 'y', 'x', 'i', 'l'], ['s', 'f', 'f', 'r', 'r'], ['m', 'y', 'j', 'r', 'a'], ['u', 'j', 'q', 'e', 'x'], ['v', 'a', 's', 'c', 'f'], ['r', 'd', 'h', 'r', 'j'], ['u', 'd', 'g', 'o', 'n'], ['v', 'a', 'f', 'i', 'e'], ['k', 'a', 'e', 'j', 'e'], ['o', 'v', 'd', 'r', 'g'], ['h', 'e', 't', 'r', 'y'], ['w', 'l', 'r', 'a', 'q']]\n",
      "\n",
      "['ytity', 'iqtqi', 'lioil', 'qeqeq', 'qeweq', 'qebeq', 'ibkbi', 'ibwbi', 'aidia', 'fikif']\n"
     ]
    }
   ],
   "source": [
    "populacao = cria_populacao_inicial(TAMANHO_POP, tamanho_palindromo)\n",
    "print(populacao)\n",
    "\n",
    "hall_da_fama = []\n",
    "\n",
    "while len(hall_da_fama) < 10:   \n",
    "    \n",
    "    # Seleção\n",
    "    fitness = funcao_objetivo_pop(populacao)\n",
    "    populacao = funcao_selecao(populacao, fitness)\n",
    "    \n",
    "    # Cruzamento\n",
    "    pais = populacao[0::2]\n",
    "    maes = populacao[1::2]\n",
    "    \n",
    "    contador = 0\n",
    "    \n",
    "    for pai, mae in zip(pais, maes):\n",
    "        if random.random() <= CHANCE_CRUZAMENTO:\n",
    "            filho1, filho2 = funcao_cruzamento(pai, mae)\n",
    "            populacao[contador] = filho1\n",
    "            populacao[contador + 1] = filho2\n",
    "        \n",
    "        contador = contador + 2   \n",
    "        \n",
    "    # Mutação\n",
    "    for n in range(len(populacao)):\n",
    "        if random.random() <= CHANCE_MUTACAO:\n",
    "            individuo = populacao[n]\n",
    "            populacao[n] = funcao_mutacao(individuo)            \n",
    "            \n",
    "    # melhor individuo já visto até agora\n",
    "    fitness = funcao_objetivo_pop(populacao)\n",
    "    for fit in fitness:\n",
    "        if fit == 0:\n",
    "            posicao = fitness.index(fit)\n",
    "            melhor_individuo_ja_visto = populacao[posicao]\n",
    "            if any(letra in LETRAS_VOGAIS for letra in melhor_individuo_ja_visto):\n",
    "                \n",
    "                melhor_individuo_ja_visto = \"\".join(populacao[posicao])\n",
    "                \n",
    "                if melhor_individuo_ja_visto not in hall_da_fama:\n",
    "                    hall_da_fama.append(melhor_individuo_ja_visto)\n",
    "                \n",
    "print()\n",
    "print(hall_da_fama)"
   ]
  },
  {
   "cell_type": "markdown",
   "metadata": {},
   "source": [
    "Vemos aqui a aplicação do algoritmo genético para a resolução de um problema simples e curioso, encontrar palíndromos com vogais. Para isso, foi aplicada uma penalização aos indivíduos sem vogais e/ou que cuja diferença à suas inversas fosse existente. Dessa forma, o algoritmos é capaz de criar um indivíduo ideal para esse problema e esse é armazenado no hall da fama, o qual foi modificado para ser uma lista sem repetições. Logo, cada palídromo presente no hall da fama é diferente e possui vogais."
   ]
  },
  {
   "cell_type": "markdown",
   "metadata": {},
   "source": [
    "## Conclusão\n",
    "\n"
   ]
  },
  {
   "cell_type": "markdown",
   "metadata": {},
   "source": [
    "Nesse experimento, foi feita a escolha de dez indivíduos palíndromos com vogais. Para isso, foi necessário alterar a função objetivo criada para o experimento A.05, como é visível na parte de funções locais. Assim, vimos que o algoritmo genético é capaz de fazer vários tipos de seleção de invidíduos, basta apenas pesar sobre o fitness, a inadequação do indivíduo quanto aos critérios que quisermos estabelecer, como dito na discussão. Por fim, é importante ressaltar que a missão era encontrar pelo menos dez indivíduos diferentes que atendem aos parâmetros suscitados, mas não foi dito que eles precissavam existir na mesma população final, e que a diversidade do resultado final pode ser alterada ao mudar os parâmetros constantes usados pelo algoritmo."
   ]
  },
  {
   "cell_type": "markdown",
   "metadata": {},
   "source": [
    "## Playground\n",
    "\n"
   ]
  }
 ],
 "metadata": {
  "kernelspec": {
   "display_name": "ilumpy",
   "language": "python",
   "name": "ilumpy"
  },
  "language_info": {
   "codemirror_mode": {
    "name": "ipython",
    "version": 3
   },
   "file_extension": ".py",
   "mimetype": "text/x-python",
   "name": "python",
   "nbconvert_exporter": "python",
   "pygments_lexer": "ipython3",
   "version": "3.9.7"
  },
  "org": null
 },
 "nbformat": 4,
 "nbformat_minor": 4
}
