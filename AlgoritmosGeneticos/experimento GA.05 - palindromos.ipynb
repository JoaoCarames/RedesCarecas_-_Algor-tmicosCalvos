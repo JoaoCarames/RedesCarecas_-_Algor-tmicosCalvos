{
 "cells": [
  {
   "cell_type": "markdown",
   "metadata": {},
   "source": [
    "Novos Palíndromos\n",
    "========================================\n",
    "\n"
   ]
  },
  {
   "cell_type": "markdown",
   "metadata": {},
   "source": [
    "## Introdução\n",
    "\n"
   ]
  },
  {
   "cell_type": "markdown",
   "metadata": {},
   "source": [
    "Delete este texto e escreva uma breve introdução sobre seu experimento.\n",
    "\n"
   ]
  },
  {
   "cell_type": "markdown",
   "metadata": {},
   "source": [
    "## Objetivo\n",
    "\n"
   ]
  },
  {
   "cell_type": "markdown",
   "metadata": {},
   "source": [
    "Encontre pelo menos 10 palíndromos de 5 letras. Estes palíndromos devem ter pelo menos uma vogal. Não é necessário que eles formem palavras válidas em português ou qualquer outro idioma."
   ]
  },
  {
   "cell_type": "markdown",
   "metadata": {},
   "source": [
    "## Importações\n",
    "\n"
   ]
  },
  {
   "cell_type": "markdown",
   "metadata": {},
   "source": [
    "Todos os comandos de `import` devem estar dentro desta seção.\n",
    "\n"
   ]
  },
  {
   "cell_type": "code",
   "execution_count": 1,
   "metadata": {},
   "outputs": [],
   "source": [
    "from funcoes import populacao_inicial_palindromo\n",
    "from funcoes import funcao_objetivo_pop_palindromo\n",
    "from funcoes import selecao_torneio_min\n",
    "from funcoes import cruzamento_ponto_simples as funcao_cruzamento\n",
    "from funcoes import mutacao_palindromo\n",
    "import random"
   ]
  },
  {
   "cell_type": "markdown",
   "metadata": {},
   "source": [
    "## Códigos e discussão\n",
    "\n"
   ]
  },
  {
   "cell_type": "markdown",
   "metadata": {},
   "source": [
    "-   Use células de código para o código.\n",
    "\n",
    "-   Use células de texto para a discussão.\n",
    "\n",
    "-   A discussão não deve ser feita em comentários dentro das células de código. Toda discussão deve acontecer após o resultado sendo discutido foi apresentado. Exemplo: não discuta um gráfico antes de apresentá-lo.\n",
    "\n"
   ]
  },
  {
   "cell_type": "code",
   "execution_count": 2,
   "metadata": {},
   "outputs": [],
   "source": [
    "#constantes\n",
    "\n",
    "TAMANHO_POP = 50\n",
    "NUM_GERACOES = 2000\n",
    "CHANCE_CRUZAMENTO = 0.5\n",
    "CHANCE_MUTACAO = 0.05\n",
    "NUM_COMBATENTES_NO_TORNEIO = 3\n",
    "\n",
    "# Palindromo\n",
    "LETRAS_POSSIVEIS = \"abcdefghijklmnopqrstuvwxyz\"\n",
    "LETRAS_VOGAIS = \"aeiou\"\n",
    "LETRAS_CONSOANTES = \"bcdfghjklmnpqrstvwxyz\"\n",
    "tamanho_palindromo = 5"
   ]
  },
  {
   "cell_type": "code",
   "execution_count": 3,
   "metadata": {},
   "outputs": [],
   "source": [
    "# funções locais\n",
    "\n",
    "def cria_populacao_inicial(tamanho, tamanho_palindromo):\n",
    "    return populacao_inicial_palindromo(tamanho, tamanho_palindromo, LETRAS_POSSIVEIS)\n",
    "\n",
    "def funcao_objetivo_pop(populacao):\n",
    "    return funcao_objetivo_pop_palindromo(populacao)\n",
    "\n",
    "def funcao_selecao(populacao, fitness):\n",
    "    return selecao_torneio_min(populacao, fitness, NUM_COMBATENTES_NO_TORNEIO)\n",
    "\n",
    "def funcao_mutacao(individuo):\n",
    "    return mutacao_palindromo(individuo, LETRAS_POSSIVEIS)"
   ]
  },
  {
   "cell_type": "code",
   "execution_count": null,
   "metadata": {},
   "outputs": [
    {
     "name": "stdout",
     "output_type": "stream",
     "text": [
      "[['o', 'c', 'r', 'x', 'k'], ['m', 'z', 'v', 'p', 'v'], ['p', 'u', 'k', 'w', 'o'], ['z', 'j', 'o', 'z', 'u'], ['e', 'f', 'j', 'a', 'c'], ['v', 'n', 'm', 'x', 't'], ['f', 'u', 'x', 'v', 'p'], ['y', 'y', 'h', 'n', 'g'], ['b', 'i', 'y', 'g', 'k'], ['a', 't', 'x', 'z', 'o'], ['v', 'j', 'u', 'a', 'b'], ['q', 'n', 'u', 'i', 't'], ['a', 'r', 'e', 'i', 'u'], ['x', 'm', 'u', 'e', 'y'], ['u', 'j', 'g', 'q', 'z'], ['l', 'l', 'z', 'z', 'h'], ['d', 'a', 'e', 'a', 'u'], ['l', 'g', 'c', 'c', 'a'], ['j', 'q', 'o', 'g', 's'], ['m', 'k', 'h', 'y', 'y'], ['e', 'p', 'j', 's', 's'], ['c', 'g', 'r', 'e', 'b'], ['i', 'm', 'e', 'p', 'g'], ['l', 'o', 'r', 't', 'i'], ['j', 'q', 'x', 's', 'x'], ['w', 'x', 'k', 'w', 'e'], ['l', 'g', 'r', 'd', 'e'], ['f', 's', 'e', 'n', 'v'], ['r', 'y', 's', 's', 's'], ['t', 'k', 'n', 'x', 'c'], ['p', 'i', 'r', 'k', 'q'], ['i', 'z', 'e', 'h', 'g'], ['k', 'z', 'o', 'i', 'u'], ['c', 'b', 'm', 'p', 'd'], ['m', 'l', 'u', 'z', 'y'], ['y', 'k', 'z', 'c', 'q'], ['f', 'h', 'c', 'm', 'i'], ['z', 'u', 'b', 'e', 'd'], ['m', 's', 'f', 'g', 'h'], ['j', 'x', 'b', 'h', 'v'], ['t', 'm', 'q', 'u', 'z'], ['e', 'r', 'r', 'h', 'z'], ['c', 'f', 'a', 'i', 'e'], ['h', 'l', 'w', 'e', 'k'], ['x', 'f', 'q', 's', 'u'], ['l', 'q', 'a', 'a', 'n'], ['y', 's', 'r', 'n', 'p'], ['n', 'q', 'd', 'v', 'j'], ['b', 'h', 'c', 'l', 'z'], ['g', 'z', 'l', 'e', 'p']]\n"
     ]
    }
   ],
   "source": [
    "populacao = cria_populacao_inicial(TAMANHO_POP, tamanho_palindromo)\n",
    "print(populacao)\n",
    "\n",
    "hall_da_fama = []\n",
    "\n",
    "while len(hall_da_fama) != 10:   \n",
    "    \n",
    "    # Seleção\n",
    "    fitness = funcao_objetivo_pop(populacao)\n",
    "    populacao = funcao_selecao(populacao, fitness)\n",
    "    \n",
    "    # Cruzamento\n",
    "    pais = populacao[0::2]\n",
    "    maes = populacao[1::2]\n",
    "    \n",
    "    contador = 0\n",
    "    \n",
    "    for pai, mae in zip(pais, maes):\n",
    "        if random.random() <= CHANCE_CRUZAMENTO:\n",
    "            filho1, filho2 = funcao_cruzamento(pai, mae)\n",
    "            populacao[contador] = filho1\n",
    "            populacao[contador + 1] = filho2\n",
    "        \n",
    "        contador = contador + 2   \n",
    "        \n",
    "    # Mutação\n",
    "    for n in range(len(populacao)):\n",
    "        if random.random() <= CHANCE_MUTACAO:\n",
    "            individuo = populacao[n]\n",
    "            populacao[n] = funcao_mutacao(individuo)            \n",
    "            \n",
    "    # melhor individuo já visto até agora\n",
    "    fitness = funcao_objetivo_pop(populacao)\n",
    "    for fit in fitness:\n",
    "        if fit == 0:\n",
    "            posicao = fitness.index(fit)\n",
    "            melhor_individuo_ja_visto = populacao[posicao]\n",
    "            if any(letra in LETRAS_VOGAIS for letra in melhor_individuo_ja_visto) and melhor_individuo_ja_visto not in hall_da_fama:\n",
    "                melhor_individuo_ja_visto = \"\".join(populacao[posicao])\n",
    "                hall_da_fama.append(melhor_individuo_ja_visto)\n",
    "\n",
    "print()\n",
    "print(hall_da_fama)"
   ]
  },
  {
   "cell_type": "markdown",
   "metadata": {},
   "source": [
    "## Conclusão\n",
    "\n"
   ]
  },
  {
   "cell_type": "markdown",
   "metadata": {},
   "source": [
    "Delete este texto e escreva sua conclusão.\n",
    "\n"
   ]
  },
  {
   "cell_type": "markdown",
   "metadata": {},
   "source": [
    "## Referências consultadas\n",
    "\n"
   ]
  },
  {
   "cell_type": "markdown",
   "metadata": {},
   "source": [
    "1.  Delete este texto e inclua suas referências ordenadas numericamente. Se for referenciar no notebook, use o número entre colchetes (exemplo: para citar essa referência aqui escreva &ldquo;[1]&rdquo; sem as áspas).\n",
    "\n",
    "2.  Cada item deve ser numerado. Siga o padrão apresentado.\n",
    "\n",
    "3.  Caso não tenha nenhuma referência consultada, delete esta seção e o texto contido nela!\n",
    "\n"
   ]
  },
  {
   "cell_type": "markdown",
   "metadata": {},
   "source": [
    "## Playground\n",
    "\n"
   ]
  },
  {
   "cell_type": "markdown",
   "metadata": {},
   "source": [
    "Todo código de teste que não faz parte do seu experimento deve vir aqui. Este código não será considerado na avaliação.\n",
    "\n"
   ]
  },
  {
   "cell_type": "code",
   "execution_count": null,
   "metadata": {},
   "outputs": [],
   "source": [
    "l = [1,2,3,4,5,6]\n",
    "a = random.sample(l, len(l))\n",
    "print(a)"
   ]
  },
  {
   "cell_type": "code",
   "execution_count": null,
   "metadata": {},
   "outputs": [],
   "source": []
  }
 ],
 "metadata": {
  "kernelspec": {
   "display_name": "ilumpy",
   "language": "python",
   "name": "ilumpy"
  },
  "language_info": {
   "codemirror_mode": {
    "name": "ipython",
    "version": 3
   },
   "file_extension": ".py",
   "mimetype": "text/x-python",
   "name": "python",
   "nbconvert_exporter": "python",
   "pygments_lexer": "ipython3",
   "version": "3.9.7"
  },
  "org": null
 },
 "nbformat": 4,
 "nbformat_minor": 4
}
