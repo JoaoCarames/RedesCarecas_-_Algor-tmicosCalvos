{
 "cells": [
  {
   "cell_type": "markdown",
   "metadata": {},
   "source": [
    "Novos Palíndromos\n",
    "========================================\n",
    "\n"
   ]
  },
  {
   "cell_type": "markdown",
   "metadata": {},
   "source": [
    "## Introdução\n",
    "\n"
   ]
  },
  {
   "cell_type": "markdown",
   "metadata": {},
   "source": [
    "Delete este texto e escreva uma breve introdução sobre seu experimento.\n",
    "\n"
   ]
  },
  {
   "cell_type": "markdown",
   "metadata": {},
   "source": [
    "## Objetivo\n",
    "\n"
   ]
  },
  {
   "cell_type": "markdown",
   "metadata": {},
   "source": [
    "Encontre pelo menos 10 palíndromos de 5 letras. Estes palíndromos devem ter pelo menos uma vogal. Não é necessário que eles formem palavras válidas em português ou qualquer outro idioma."
   ]
  },
  {
   "cell_type": "markdown",
   "metadata": {},
   "source": [
    "## Importações\n",
    "\n"
   ]
  },
  {
   "cell_type": "markdown",
   "metadata": {},
   "source": [
    "Todos os comandos de `import` devem estar dentro desta seção.\n",
    "\n"
   ]
  },
  {
   "cell_type": "code",
   "execution_count": 1,
   "metadata": {},
   "outputs": [],
   "source": [
    "from funcoes import populacao_inicial_senha\n",
    "from funcoes import funcao_objetivo_pop_senha\n",
    "from funcoes import mutacao_senha\n",
    "from funcoes import selecao_torneio_min\n",
    "from funcoes import cruzamento_ponto_simples as funcao_cruzamento\n",
    "\n",
    "import random"
   ]
  },
  {
   "cell_type": "markdown",
   "metadata": {},
   "source": [
    "## Códigos e discussão\n",
    "\n"
   ]
  },
  {
   "cell_type": "markdown",
   "metadata": {},
   "source": [
    "-   Use células de código para o código.\n",
    "\n",
    "-   Use células de texto para a discussão.\n",
    "\n",
    "-   A discussão não deve ser feita em comentários dentro das células de código. Toda discussão deve acontecer após o resultado sendo discutido foi apresentado. Exemplo: não discuta um gráfico antes de apresentá-lo.\n",
    "\n"
   ]
  },
  {
   "cell_type": "code",
   "execution_count": 8,
   "metadata": {},
   "outputs": [],
   "source": [
    "#Funções Locais\n",
    "def funcao_objetivo_palindromo(individuo):\n",
    "    \"\"\"Computa a funcao objetivo de um individuo no problema da senha\n",
    "\n",
    "    Args:\n",
    "      individiuo: lista contendo as letras da senha\n",
    "      senha_verdadeira: a senha que você está tentando descobrir\n",
    "\n",
    "    Returns:\n",
    "      A \"distância\" entre a senha proposta e a senha verdadeira. Essa distância\n",
    "      é medida letra por letra. Quanto mais distante uma letra for da que\n",
    "      deveria ser, maior é essa distância.\n",
    "    \"\"\"\n",
    "    diferenca = 0\n",
    "    palindromo = individuo[::-1]\n",
    "    letras_vogais=\"aeiou\"\n",
    "    for letra_candidato, letra_palindromo in zip(individuo, palindromo):\n",
    "        if letra_candidato != letra_palindromo:\n",
    "            diferenca = diferenca + 2\n",
    "    \n",
    "    if any(letra in letras_vogais for letra in individuo):\n",
    "        pass\n",
    "    else:\n",
    "        diferenca = diferenca + 2\n",
    "        \n",
    "    return diferenca\n",
    "\n",
    "def funcao_objetivo_pop_palindromo(populacao):\n",
    "    \"\"\"Computa a funcao objetivo de uma populaçao no problema da senha.\n",
    "\n",
    "    Args:\n",
    "      populacao: lista com todos os individuos da população\n",
    "      senha_verdadeira: a senha que você está tentando descobrir\n",
    "\n",
    "    Returns:\n",
    "      Lista contendo os valores da métrica de distância entre senhas.\n",
    "    \"\"\"\n",
    "    resultado = []\n",
    "\n",
    "    for individuo in populacao:\n",
    "        resultado.append(funcao_objetivo_palindromo(individuo))\n",
    "    return resultado"
   ]
  },
  {
   "cell_type": "code",
   "execution_count": 3,
   "metadata": {},
   "outputs": [],
   "source": [
    "#constantes\n",
    "\n",
    "TAMANHO_POP = 50\n",
    "NUM_GERACOES = 2000\n",
    "CHANCE_CRUZAMENTO = 0.5\n",
    "CHANCE_MUTACAO = 0.05\n",
    "NUM_COMBATENTES_NO_TORNEIO = 3\n",
    "\n",
    "# Palindromo\n",
    "LETRAS_POSSIVEIS = \"abcdefghijklmnopqrstuvwxyz\"\n",
    "LETRAS_VOGAIS = \"aeiou\"\n",
    "LETRAS_CONSOANTES = \"bcdfghjklmnpqrstvwxyz\"\n",
    "tamanho_palindromo = 5"
   ]
  },
  {
   "cell_type": "code",
   "execution_count": 4,
   "metadata": {},
   "outputs": [],
   "source": [
    "# funções locais\n",
    "\n",
    "def cria_populacao_inicial(tamanho, tamanho_palindromo):\n",
    "    return populacao_inicial_senha(tamanho, tamanho_palindromo, LETRAS_POSSIVEIS)\n",
    "\n",
    "def funcao_objetivo_pop(populacao):\n",
    "    return funcao_objetivo_pop_palindromo(populacao)\n",
    "\n",
    "def funcao_selecao(populacao, fitness):\n",
    "    return selecao_torneio_min(populacao, fitness, NUM_COMBATENTES_NO_TORNEIO)\n",
    "\n",
    "def funcao_mutacao(individuo):\n",
    "    return mutacao_senha(individuo, LETRAS_POSSIVEIS)"
   ]
  },
  {
   "cell_type": "code",
   "execution_count": 7,
   "metadata": {},
   "outputs": [
    {
     "name": "stdout",
     "output_type": "stream",
     "text": [
      "[['a', 'x', 'v', 'q', 'b'], ['v', 'j', 'g', 'm', 'n'], ['a', 'b', 'y', 'e', 'm'], ['i', 'x', 'k', 'a', 'y'], ['v', 'r', 'g', 'g', 'r'], ['l', 'y', 'e', 'j', 'i'], ['x', 'n', 's', 'z', 'j'], ['u', 't', 'r', 'u', 't'], ['g', 'z', 'v', 'r', 's'], ['u', 'd', 'q', 'i', 'y'], ['h', 'v', 'q', 'e', 'w'], ['a', 'w', 'q', 'j', 'v'], ['z', 'd', 'a', 'm', 'q'], ['v', 'p', 'k', 'n', 'h'], ['k', 'g', 'j', 'w', 'u'], ['m', 'h', 'u', 'p', 's'], ['o', 'x', 'y', 'r', 'r'], ['p', 'v', 'n', 'e', 'b'], ['n', 'i', 'j', 'u', 'm'], ['p', 'p', 'x', 'i', 'i'], ['x', 'e', 'w', 'u', 'e'], ['a', 'h', 'm', 'f', 'p'], ['i', 't', 's', 'b', 'q'], ['i', 'a', 'j', 't', 'n'], ['y', 'x', 'f', 'q', 'x'], ['h', 'e', 'q', 'x', 'd'], ['m', 'j', 'n', 'g', 'z'], ['y', 'o', 'o', 'n', 't'], ['z', 'm', 'h', 'v', 's'], ['s', 'n', 'f', 'd', 't'], ['t', 'j', 'g', 'f', 'i'], ['h', 'v', 'j', 'k', 's'], ['j', 'j', 'h', 'f', 'a'], ['g', 'h', 'k', 'o', 's'], ['j', 'q', 'i', 'a', 'z'], ['w', 'e', 'u', 'q', 'o'], ['t', 'l', 'd', 'q', 'l'], ['o', 'm', 'k', 'l', 'g'], ['b', 'r', 'v', 'o', 't'], ['p', 'b', 's', 'o', 'l'], ['z', 'h', 'r', 'i', 'e'], ['a', 'm', 'q', 't', 'g'], ['d', 'm', 'u', 'g', 'u'], ['y', 'd', 'c', 'o', 'q'], ['t', 'j', 'f', 'q', 'y'], ['o', 'c', 'o', 'p', 'd'], ['n', 'b', 'v', 'a', 'p'], ['f', 't', 'y', 'e', 'h'], ['i', 'm', 'q', 'g', 'o'], ['r', 't', 'd', 'y', 'x']]\n",
      "\n",
      "['utrtu', 'utrtu', 'utrtu', 'utrtu', 'utrtu', 'utrtu', 'utrtu', 'utrtu', 'utrtu', 'utrtu']\n"
     ]
    }
   ],
   "source": [
    "populacao = cria_populacao_inicial(TAMANHO_POP, tamanho_palindromo)\n",
    "print(populacao)\n",
    "\n",
    "hall_da_fama = []\n",
    "\n",
    "while len(hall_da_fama) != 10:   \n",
    "    \n",
    "    # Seleção\n",
    "    fitness = funcao_objetivo_pop(populacao)\n",
    "    populacao = funcao_selecao(populacao, fitness)\n",
    "    \n",
    "    # Cruzamento\n",
    "    pais = populacao[0::2]\n",
    "    maes = populacao[1::2]\n",
    "    \n",
    "    contador = 0\n",
    "    \n",
    "    for pai, mae in zip(pais, maes):\n",
    "        if random.random() <= CHANCE_CRUZAMENTO:\n",
    "            filho1, filho2 = funcao_cruzamento(pai, mae)\n",
    "            populacao[contador] = filho1\n",
    "            populacao[contador + 1] = filho2\n",
    "        \n",
    "        contador = contador + 2   \n",
    "        \n",
    "    # Mutação\n",
    "    for n in range(len(populacao)):\n",
    "        if random.random() <= CHANCE_MUTACAO:\n",
    "            individuo = populacao[n]\n",
    "            populacao[n] = funcao_mutacao(individuo)            \n",
    "            \n",
    "    # melhor individuo já visto até agora\n",
    "    fitness = funcao_objetivo_pop(populacao)\n",
    "    for fit in fitness:\n",
    "        if fit == 0:\n",
    "            posicao = fitness.index(fit)\n",
    "            melhor_individuo_ja_visto = populacao[posicao]\n",
    "            if any(letra in LETRAS_VOGAIS for letra in melhor_individuo_ja_visto) and melhor_individuo_ja_visto not in hall_da_fama:\n",
    "                melhor_individuo_ja_visto = \"\".join(populacao[posicao])\n",
    "                hall_da_fama.append(melhor_individuo_ja_visto)\n",
    "\n",
    "print()\n",
    "print(hall_da_fama)"
   ]
  },
  {
   "cell_type": "markdown",
   "metadata": {},
   "source": [
    "## Conclusão\n",
    "\n"
   ]
  },
  {
   "cell_type": "markdown",
   "metadata": {},
   "source": [
    "Nesse experimento, foi feita a escolha de dez indivíduos palíndromos com vogais. Para isso, foi necessário alterar a função objetivo criada para o experimento A.05, como é visível na parte de funções locais. Assim, vimos que o algoritmo genético é capaz de fazer vários tipos de seleção de invidíduos, basta apenas pesar sobre o fitnesse, a inadequação do indivíduo quanto aos critérios que quisermos estabelecer."
   ]
  },
  {
   "cell_type": "markdown",
   "metadata": {},
   "source": [
    "## Playground\n",
    "\n"
   ]
  },
  {
   "cell_type": "markdown",
   "metadata": {},
   "source": [
    "Todo código de teste que não faz parte do seu experimento deve vir aqui. Este código não será considerado na avaliação.\n",
    "\n"
   ]
  },
  {
   "cell_type": "code",
   "execution_count": null,
   "metadata": {},
   "outputs": [],
   "source": [
    "l = [1,2,3,4,5,6]\n",
    "a = random.sample(l, len(l))\n",
    "print(a)"
   ]
  },
  {
   "cell_type": "code",
   "execution_count": null,
   "metadata": {},
   "outputs": [],
   "source": []
  }
 ],
 "metadata": {
  "kernelspec": {
   "display_name": "ilumpy",
   "language": "python",
   "name": "ilumpy"
  },
  "language_info": {
   "codemirror_mode": {
    "name": "ipython",
    "version": 3
   },
   "file_extension": ".py",
   "mimetype": "text/x-python",
   "name": "python",
   "nbconvert_exporter": "python",
   "pygments_lexer": "ipython3",
   "version": "3.9.7"
  },
  "org": null
 },
 "nbformat": 4,
 "nbformat_minor": 4
}
