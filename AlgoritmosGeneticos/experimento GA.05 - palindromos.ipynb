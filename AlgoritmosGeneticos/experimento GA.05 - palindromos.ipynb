{
 "cells": [
  {
   "cell_type": "markdown",
   "metadata": {},
   "source": [
    "Novos Palíndromos\n",
    "========================================\n",
    "\n"
   ]
  },
  {
   "cell_type": "markdown",
   "metadata": {},
   "source": [
    "## Introdução\n",
    "\n"
   ]
  },
  {
   "cell_type": "markdown",
   "metadata": {},
   "source": [
    "Delete este texto e escreva uma breve introdução sobre seu experimento.\n",
    "\n"
   ]
  },
  {
   "cell_type": "markdown",
   "metadata": {},
   "source": [
    "## Objetivo\n",
    "\n"
   ]
  },
  {
   "cell_type": "markdown",
   "metadata": {},
   "source": [
    "Encontre pelo menos 10 palíndromos de 5 letras. Estes palíndromos devem ter pelo menos uma vogal. Não é necessário que eles formem palavras válidas em português ou qualquer outro idioma."
   ]
  },
  {
   "cell_type": "markdown",
   "metadata": {},
   "source": [
    "## Importações\n",
    "\n"
   ]
  },
  {
   "cell_type": "markdown",
   "metadata": {},
   "source": [
    "Todos os comandos de `import` devem estar dentro desta seção.\n",
    "\n"
   ]
  },
  {
   "cell_type": "code",
   "execution_count": 8,
   "metadata": {},
   "outputs": [
    {
     "ename": "ImportError",
     "evalue": "cannot import name 'populacao_inicial_palindromo' from 'funcoes' (C:\\JupyterLab\\RedesNeurais&AlgoritmosGeneticos\\RedesCarecas_-_Algor-tmicosCalvos\\AlgoritmosGeneticos\\funcoes.py)",
     "output_type": "error",
     "traceback": [
      "\u001b[1;31m---------------------------------------------------------------------------\u001b[0m",
      "\u001b[1;31mImportError\u001b[0m                               Traceback (most recent call last)",
      "\u001b[1;32mC:\\Users\\JOAO22~1\\AppData\\Local\\Temp/ipykernel_19580/820729628.py\u001b[0m in \u001b[0;36m<module>\u001b[1;34m\u001b[0m\n\u001b[1;32m----> 1\u001b[1;33m \u001b[1;32mfrom\u001b[0m \u001b[0mfuncoes\u001b[0m \u001b[1;32mimport\u001b[0m \u001b[0mpopulacao_inicial_palindromo\u001b[0m\u001b[1;33m\u001b[0m\u001b[1;33m\u001b[0m\u001b[0m\n\u001b[0m\u001b[0;32m      2\u001b[0m \u001b[1;32mfrom\u001b[0m \u001b[0mfuncoes\u001b[0m \u001b[1;32mimport\u001b[0m \u001b[0mfuncao_objetivo_pop_palindromo\u001b[0m\u001b[1;33m\u001b[0m\u001b[1;33m\u001b[0m\u001b[0m\n\u001b[0;32m      3\u001b[0m \u001b[1;32mfrom\u001b[0m \u001b[0mfuncoes\u001b[0m \u001b[1;32mimport\u001b[0m \u001b[0mselecao_torneio_min\u001b[0m\u001b[1;33m\u001b[0m\u001b[1;33m\u001b[0m\u001b[0m\n\u001b[0;32m      4\u001b[0m \u001b[1;32mfrom\u001b[0m \u001b[0mfuncoes\u001b[0m \u001b[1;32mimport\u001b[0m \u001b[0mcruzamento_ponto_simples\u001b[0m \u001b[1;32mas\u001b[0m \u001b[0mfuncao_cruzamento\u001b[0m\u001b[1;33m\u001b[0m\u001b[1;33m\u001b[0m\u001b[0m\n\u001b[0;32m      5\u001b[0m \u001b[1;32mfrom\u001b[0m \u001b[0mfuncoes\u001b[0m \u001b[1;32mimport\u001b[0m \u001b[0mmutacao_palindromo\u001b[0m\u001b[1;33m\u001b[0m\u001b[1;33m\u001b[0m\u001b[0m\n",
      "\u001b[1;31mImportError\u001b[0m: cannot import name 'populacao_inicial_palindromo' from 'funcoes' (C:\\JupyterLab\\RedesNeurais&AlgoritmosGeneticos\\RedesCarecas_-_Algor-tmicosCalvos\\AlgoritmosGeneticos\\funcoes.py)"
     ]
    }
   ],
   "source": [
    "from funcoes import populacao_inicial_palindromo\n",
    "from funcoes import funcao_objetivo_pop_palindromo\n",
    "from funcoes import selecao_torneio_min\n",
    "from funcoes import cruzamento_ponto_simples as funcao_cruzamento\n",
    "from funcoes import mutacao_palindromo\n",
    "import random"
   ]
  },
  {
   "cell_type": "markdown",
   "metadata": {},
   "source": [
    "## Códigos e discussão\n",
    "\n"
   ]
  },
  {
   "cell_type": "markdown",
   "metadata": {},
   "source": [
    "-   Use células de código para o código.\n",
    "\n",
    "-   Use células de texto para a discussão.\n",
    "\n",
    "-   A discussão não deve ser feita em comentários dentro das células de código. Toda discussão deve acontecer após o resultado sendo discutido foi apresentado. Exemplo: não discuta um gráfico antes de apresentá-lo.\n",
    "\n"
   ]
  },
  {
   "cell_type": "code",
   "execution_count": 2,
   "metadata": {},
   "outputs": [],
   "source": [
    "#constantes\n",
    "\n",
    "TAMANHO_POP = 50\n",
    "NUM_GERACOES = 2000\n",
    "CHANCE_CRUZAMENTO = 0.5\n",
    "CHANCE_MUTACAO = 0.05\n",
    "NUM_COMBATENTES_NO_TORNEIO = 3\n",
    "\n",
    "# Palindromo\n",
    "LETRAS_POSSIVEIS = \"abcdefghijklmnopqrstuvwxyz\"\n",
    "LETRAS_VOGAIS = \"aeiou\"\n",
    "LETRAS_CONSOANTES = \"bcdfghjklmnpqrstvwxyz\"\n",
    "tamanho_palindromo = 5"
   ]
  },
  {
   "cell_type": "code",
   "execution_count": 3,
   "metadata": {},
   "outputs": [],
   "source": []
  },
  {
   "cell_type": "code",
   "execution_count": 4,
   "metadata": {},
   "outputs": [],
   "source": [
    "# funções locais\n",
    "\n",
    "def cria_populacao_inicial(tamanho, tamanho_palindromo):\n",
    "    return populacao_inicial_palindromo(tamanho, tamanho_palindromo, LETRAS_POSSIVEIS)\n",
    "\n",
    "def funcao_objetivo_pop(populacao):\n",
    "    return funcao_objetivo_pop_palindromo(populacao)\n",
    "\n",
    "def funcao_selecao(populacao, fitness):\n",
    "    return selecao_torneio_min(populacao, fitness, NUM_COMBATENTES_NO_TORNEIO)\n",
    "\n",
    "def funcao_mutacao(individuo):\n",
    "    return mutacao_palindromo(individuo, LETRAS_POSSIVEIS)"
   ]
  },
  {
   "cell_type": "code",
   "execution_count": 5,
   "metadata": {},
   "outputs": [
    {
     "name": "stdout",
     "output_type": "stream",
     "text": [
      "[['c', 'p', 'e', 'l', 'x'], ['v', 'd', 'm', 'c', 'g'], ['o', 'i', 'z', 'q', 'x'], ['l', 's', 'n', 'y', 'v'], ['p', 'm', 'g', 'y', 'o'], ['d', 'i', 'e', 'l', 'd'], ['y', 'o', 'h', 'l', 'b'], ['w', 'a', 'n', 'n', 'h'], ['t', 's', 'b', 'y', 'a'], ['v', 'k', 'm', 'o', 'd'], ['l', 'u', 'o', 't', 'c'], ['m', 'f', 'q', 'a', 'v'], ['j', 'm', 'z', 'p', 'h'], ['v', 'm', 'a', 'j', 'r'], ['l', 'c', 'e', 's', 'v'], ['z', 's', 'h', 'a', 'j'], ['x', 's', 'h', 'z', 'e'], ['p', 'q', 'x', 'x', 'u'], ['l', 'a', 'd', 'n', 'n'], ['g', 'k', 'g', 'k', 't'], ['h', 'd', 'h', 'c', 't'], ['h', 'l', 'w', 'g', 'z'], ['y', 'b', 't', 'g', 'g'], ['j', 'f', 'l', 's', 'u'], ['r', 'p', 'n', 'h', 'y'], ['c', 'g', 'g', 'm', 's'], ['n', 'z', 'l', 'a', 'y'], ['k', 'a', 'e', 'v', 'c'], ['k', 'k', 'h', 't', 'o'], ['l', 'h', 'a', 'y', 'x'], ['o', 'o', 'r', 'n', 's'], ['z', 'r', 'l', 'q', 'a'], ['g', 'a', 'r', 'i', 'x'], ['m', 'i', 'j', 'e', 'l'], ['g', 'm', 't', 'g', 's'], ['v', 't', 'z', 'e', 'c'], ['t', 'x', 'p', 'q', 'z'], ['g', 'w', 'r', 'e', 'k'], ['o', 'f', 'y', 'c', 'n'], ['t', 'g', 's', 'd', 'e'], ['t', 'h', 'b', 'c', 'i'], ['m', 'n', 'n', 'c', 'i'], ['o', 'u', 'r', 't', 'b'], ['h', 'm', 'i', 'b', 'y'], ['e', 'm', 'b', 'l', 'e'], ['l', 'q', 'd', 'f', 'x'], ['s', 'q', 's', 'f', 'w'], ['b', 'm', 'r', 'v', 'o'], ['y', 'y', 'd', 'v', 'r'], ['f', 'p', 'e', 't', 't']]\n",
      "\n",
      "['ichci', 'icgci', 'icxci', 'icwci', 'icaci', 'icdci', 'iclci', 'icvci', 'icoci', 'icbci']\n"
     ]
    }
   ],
   "source": [
    "populacao = cria_populacao_inicial(TAMANHO_POP, tamanho_palindromo)\n",
    "print(populacao)\n",
    "\n",
    "melhor_fitness_ja_visto = float(\"inf\")  # é assim que escrevemos infinito em python\n",
    "\n",
    "hall_da_fama = []\n",
    "\n",
    "while len(hall_da_fama) != 10:   \n",
    "    \n",
    "    # Seleção\n",
    "    fitness = funcao_objetivo_pop(populacao)\n",
    "    populacao = funcao_selecao(populacao, fitness)\n",
    "    \n",
    "    # Cruzamento\n",
    "    pais = populacao[0::2]\n",
    "    maes = populacao[1::2]\n",
    "    \n",
    "    contador = 0\n",
    "    \n",
    "    for pai, mae in zip(pais, maes):\n",
    "        if random.random() <= CHANCE_CRUZAMENTO:\n",
    "            filho1, filho2 = funcao_cruzamento(pai, mae)\n",
    "            populacao[contador] = filho1\n",
    "            populacao[contador + 1] = filho2\n",
    "        \n",
    "        contador = contador + 2   \n",
    "        \n",
    "    # Mutação\n",
    "    for n in range(len(populacao)):\n",
    "        if random.random() <= CHANCE_MUTACAO:\n",
    "            individuo = populacao[n]\n",
    "            populacao[n] = funcao_mutacao(individuo)            \n",
    "            \n",
    "    # melhor individuo já visto até agora\n",
    "    fitness = funcao_objetivo_pop(populacao)\n",
    "    for fit in fitness:\n",
    "        if fit == 0:\n",
    "            posicao = fitness.index(fit)\n",
    "            melhor_individuo_ja_visto = populacao[posicao]\n",
    "            if any(letra in LETRAS_VOGAIS for letra in melhor_individuo_ja_visto):\n",
    "                melhor_individuo_ja_visto = \"\".join(populacao[posicao])\n",
    "                if melhor_individuo_ja_visto not in hall_da_fama:\n",
    "                    hall_da_fama.append(melhor_individuo_ja_visto)\n",
    "\n",
    "print()\n",
    "print(hall_da_fama)"
   ]
  },
  {
   "cell_type": "markdown",
   "metadata": {},
   "source": [
    "## Conclusão\n",
    "\n"
   ]
  },
  {
   "cell_type": "markdown",
   "metadata": {},
   "source": [
    "Delete este texto e escreva sua conclusão.\n",
    "\n"
   ]
  },
  {
   "cell_type": "markdown",
   "metadata": {},
   "source": [
    "## Referências consultadas\n",
    "\n"
   ]
  },
  {
   "cell_type": "markdown",
   "metadata": {},
   "source": [
    "1.  Delete este texto e inclua suas referências ordenadas numericamente. Se for referenciar no notebook, use o número entre colchetes (exemplo: para citar essa referência aqui escreva &ldquo;[1]&rdquo; sem as áspas).\n",
    "\n",
    "2.  Cada item deve ser numerado. Siga o padrão apresentado.\n",
    "\n",
    "3.  Caso não tenha nenhuma referência consultada, delete esta seção e o texto contido nela!\n",
    "\n"
   ]
  },
  {
   "cell_type": "markdown",
   "metadata": {},
   "source": [
    "## Playground\n",
    "\n"
   ]
  },
  {
   "cell_type": "markdown",
   "metadata": {},
   "source": [
    "Todo código de teste que não faz parte do seu experimento deve vir aqui. Este código não será considerado na avaliação.\n",
    "\n"
   ]
  },
  {
   "cell_type": "code",
   "execution_count": null,
   "metadata": {},
   "outputs": [],
   "source": []
  }
 ],
 "metadata": {
  "kernelspec": {
   "display_name": "ilumpy",
   "language": "python",
   "name": "ilumpy"
  },
  "language_info": {
   "codemirror_mode": {
    "name": "ipython",
    "version": 3
   },
   "file_extension": ".py",
   "mimetype": "text/x-python",
   "name": "python",
   "nbconvert_exporter": "python",
   "pygments_lexer": "ipython3",
   "version": "3.9.7"
  },
  "org": null
 },
 "nbformat": 4,
 "nbformat_minor": 4
}
