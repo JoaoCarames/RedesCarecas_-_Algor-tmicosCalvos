{
 "cells": [
  {
   "cell_type": "markdown",
   "metadata": {},
   "source": [
    "A Função de Himmelblau\n",
    "========================================"
   ]
  },
  {
   "cell_type": "markdown",
   "metadata": {},
   "source": [
    "## Introdução\n",
    "\n"
   ]
  },
  {
   "cell_type": "markdown",
   "metadata": {},
   "source": [
    "A função de Himmelblau é um objeto matemático amplamente utilizado para medir a eficiência de algoritmos de otimização e é definida como uma função de três dimensõs, uma para a imagem e duas para o domínio. Ela possui a seguinte fórmula:\n",
    "\n",
    "$$H(x,y) = (x^2 + y - 11)^2 + (x + y^2 - 7)^2$$"
   ]
  },
  {
   "cell_type": "markdown",
   "metadata": {},
   "source": [
    "## Objetivo\n",
    "\n"
   ]
  },
  {
   "cell_type": "markdown",
   "metadata": {},
   "source": [
    "O objetivo desse experimento é encontrar pelo menos um ponto de mínimo da função usando algoritmos genéticos. Para isso, sabemos que os valores de ($x$,$y$) são os que zeram a função, ou seja, os mínimos são quando temos $H(x,y) = 0$"
   ]
  },
  {
   "cell_type": "markdown",
   "metadata": {},
   "source": [
    "## Importações\n",
    "\n"
   ]
  },
  {
   "cell_type": "markdown",
   "metadata": {},
   "source": [
    "Todos os comandos de `import` devem estar dentro desta seção.\n",
    "\n"
   ]
  },
  {
   "cell_type": "code",
   "execution_count": 1,
   "metadata": {},
   "outputs": [],
   "source": [
    "import numpy as np\n",
    "import matplotlib.pyplot as plt\n",
    "import random\n",
    "from funcoes import selecao_torneio_min as funcao_selecao\n",
    "from funcoes import cruzamento_ponto_simples as funcao_cruzamento"
   ]
  },
  {
   "cell_type": "markdown",
   "metadata": {},
   "source": [
    "## Códigos e discussão\n",
    "\n"
   ]
  },
  {
   "cell_type": "code",
   "execution_count": 2,
   "metadata": {},
   "outputs": [],
   "source": [
    "def Himmelblau(x,y):\n",
    "    H = (x**2 + y - 11)**2 + (x + y**2 - 7)**2\n",
    "    return H"
   ]
  },
  {
   "cell_type": "code",
   "execution_count": 3,
   "metadata": {},
   "outputs": [
    {
     "data": {
      "text/plain": [
       "5.145"
      ]
     },
     "execution_count": 3,
     "metadata": {},
     "output_type": "execute_result"
    }
   ],
   "source": [
    "def gene_himmelblau(intervalo, precisao=None):\n",
    "    \"\"\"Fornece um gene válido para o problema de Himmelblaud\n",
    "    \n",
    "    Args:\n",
    "        intervalo: uma lista de dois números reais quaisquer que representa o intervalo de busca, sendo que o limite inferior do\n",
    "                   intervalo é necessariamente o primeiro item da lista e o superior o segundo.\n",
    "        precisao: valor usado para arredondamento.\n",
    "        \n",
    "    Return:\n",
    "        gene: um número real qualquer dentro de um intervalo.\n",
    "        rgene: um número real qualquer arredondado dentro de um intervalo. \n",
    "    \"\"\"\n",
    "    lim_inf = intervalo[0]\n",
    "    lim_sup = intervalo[1]\n",
    "    \n",
    "    if precisao == None:\n",
    "        gene = random.uniform(lim_inf, lim_sup)\n",
    "        return gene\n",
    "    if precisao != None:\n",
    "        gene = random.uniform(lim_inf, lim_sup)\n",
    "        rgene = round(gene, precisao)\n",
    "        return rgene\n",
    "gene_himmelblau([1,10],3)"
   ]
  },
  {
   "cell_type": "code",
   "execution_count": 4,
   "metadata": {},
   "outputs": [
    {
     "data": {
      "text/plain": [
       "[4.053, 4.528]"
      ]
     },
     "execution_count": 4,
     "metadata": {},
     "output_type": "execute_result"
    }
   ],
   "source": [
    "def individuo_himmelblau(intervalo, precisao=None):\n",
    "    \"\"\"Fornece um indivíduo válido para o problema de Himmelblau\n",
    "    \n",
    "    Args:\n",
    "        intervalo: uma lista de dois números reais quaisquer que representa o intervalo de busca, sendo que o limite inferior do\n",
    "                   intervalo é necessariamente o primeiro item da lista e o superior o segundo.\n",
    "        precisao: valor usado para arredondamento.\n",
    "        \n",
    "    Return:\n",
    "        individuo: lista de dois itens, dois genes.\n",
    "    \"\"\"\n",
    "    \n",
    "    numero_de_genes = 2 #Pois nosso problema pede isso\n",
    "    individuo = []\n",
    "    \n",
    "    for _ in range(numero_de_genes):\n",
    "        individuo.append(gene_himmelblau(intervalo, precisao))\n",
    "    \n",
    "    return individuo\n",
    "individuo_himmelblau([1,10],3)"
   ]
  },
  {
   "cell_type": "code",
   "execution_count": 5,
   "metadata": {
    "tags": []
   },
   "outputs": [
    {
     "data": {
      "text/plain": [
       "[[5.197, 7.02], [7.445, 3.818], [4.024, 7.484], [2.159, 2.484], [2.123, 8.275]]"
      ]
     },
     "execution_count": 5,
     "metadata": {},
     "output_type": "execute_result"
    }
   ],
   "source": [
    "def populacao_himmelblau(intervalo, tamanho, precisao=None):\n",
    "    \"\"\"Fornece uma população para o problema de Himmelblau\n",
    "    \n",
    "    Args:\n",
    "        intervalo: uma lista de dois números reais quaisquer que representa o intervalo de busca, sendo que o limite inferior do\n",
    "                   intervalo é necessariamente o primeiro item da lista e o superior o segundo.\n",
    "        precisao: valor usado para arredondamento.\n",
    "        tamanho: tamanho da população\n",
    "        \n",
    "    Return:\n",
    "        população: uma lista de individuos válidos, lista de listas.\n",
    "    \"\"\"\n",
    "    populacao = []\n",
    "    for _ in range(tamanho):\n",
    "        populacao.append(individuo_himmelblau(intervalo, precisao))\n",
    "        \n",
    "    return populacao\n",
    "populacao_himmelblau([1,10],5,3)"
   ]
  },
  {
   "cell_type": "code",
   "execution_count": 6,
   "metadata": {},
   "outputs": [
    {
     "data": {
      "text/plain": [
       "10"
      ]
     },
     "execution_count": 6,
     "metadata": {},
     "output_type": "execute_result"
    }
   ],
   "source": [
    "def funcao_objetivo_himmelblau(individuo, valor_aproximado):\n",
    "    \"\"\"Fornece a função objetivo para cada indivíduo do problema de Himmelblau\n",
    "    \n",
    "    Args:\n",
    "        individuo: lista de dois itens, dois genes.\n",
    "        valor_aproximado: valor máximo desejável para a função de Himmelblau.\n",
    "    Return:\n",
    "        fun_obj: valor da função objetivo do indivíduo.\n",
    "    \"\"\"\n",
    "    x = individuo[0]\n",
    "    y = individuo[1]\n",
    "    \n",
    "    H = Himmelblau(x,y)\n",
    "    fun_obj = 0\n",
    "    \n",
    "    if H<=valor_aproximado:\n",
    "        return fun_obj\n",
    "    else:\n",
    "        #transforma string\n",
    "        A = round(H)\n",
    "        n = str(A)\n",
    "        for numero in n:\n",
    "            if H < 1:\n",
    "                fun_obj = 1\n",
    "            else:\n",
    "                fun_obj = fun_obj*10 + 10\n",
    "        return fun_obj\n",
    "funcao_objetivo_himmelblau([3.2, 2.1], 0.01)"
   ]
  },
  {
   "cell_type": "code",
   "execution_count": 7,
   "metadata": {},
   "outputs": [
    {
     "data": {
      "text/plain": [
       "[111110, 11110, 110, 111111110, 1110]"
      ]
     },
     "execution_count": 7,
     "metadata": {},
     "output_type": "execute_result"
    }
   ],
   "source": [
    "def funcao_objetivo_pop_himmelblau(populacao, valor_aproximado):\n",
    "    \"\"\"Fornece a função objetivo para cada indivíduo de uma população do problema de Himmelblau.\n",
    "    \n",
    "    Args:\n",
    "        populacao: uma lista de indivíduos válidos.\n",
    "        \n",
    "    Return:\n",
    "        fitness: uma lista com o valor da função objetivo de cada indivíduo da população.\n",
    "    \"\"\"\n",
    "    fitness = []\n",
    "    for individuo in populacao:\n",
    "        fun_obj = funcao_objetivo_himmelblau(individuo, valor_aproximado)\n",
    "        fitness.append(fun_obj)\n",
    "    return fitness\n",
    "funcao_objetivo_pop_himmelblau([[4.56,-16],[2.9,7.8],[-1.02,3.14],[90,0],[1,1]],0.01)"
   ]
  },
  {
   "cell_type": "code",
   "execution_count": 8,
   "metadata": {},
   "outputs": [
    {
     "data": {
      "text/plain": [
       "[1, 0.206]"
      ]
     },
     "execution_count": 8,
     "metadata": {},
     "output_type": "execute_result"
    }
   ],
   "source": [
    "def mutacao_himmelblau(individuo, intervalo, precisao=None):\n",
    "    \"\"\"Fornece um novo gene para um individuo do problema de Himmelblau\n",
    "    \n",
    "    Args:\n",
    "        individuo: uma lista de genes.\n",
    "        intervalo: uma lista de dois números reais quaisquer que representa o intervalo de busca, sendo que o limite inferior do\n",
    "                   intervalo é necessariamente o primeiro item da lista e o superior o segundo.\n",
    "        precisao: valor usado para arredondamento.\n",
    "        \n",
    "    Return:\n",
    "        individuo: individuo com um gene mutado.\n",
    "    \"\"\"\n",
    "    gene = random.randint(0, len(individuo) - 1)\n",
    "    individuo[gene] = gene_himmelblau(intervalo, precisao)\n",
    "    return individuo\n",
    "mutacao_himmelblau([1,1],[0,10],3)"
   ]
  },
  {
   "cell_type": "code",
   "execution_count": 14,
   "metadata": {},
   "outputs": [],
   "source": [
    "### CONSTANTES\n",
    "\n",
    "# relacionadas à busca\n",
    "tamanho = 50\n",
    "CHANCE_CRUZAMENTO = 0.5\n",
    "CHANCE_MUTACAO = 0.3\n",
    "NUM_COMBATENTES_NO_TORNEIO = 3\n",
    "\n",
    "# do problema\n",
    "\n",
    "intervalo = [-50,50]\n",
    "precisao = 5\n",
    "valor_aproximado = 0.01\n",
    "a = 1"
   ]
  },
  {
   "cell_type": "code",
   "execution_count": 15,
   "metadata": {},
   "outputs": [],
   "source": [
    "# Funções locais\n",
    "\n",
    "def cria_populacao_inicial(intervalo):\n",
    "    return populacao_himmelblau(intervalo, tamanho, precisao)\n",
    "\n",
    "def funcao_objetivo_pop(populacao):\n",
    "    return funcao_objetivo_pop_himmelblau(populacao, valor_aproximado)\n",
    "\n",
    "def funcao_objetivo_individuo(individuo):\n",
    "    return funcao_objetivo_himmelblau(individuo, valor_aproximado)\n",
    "\n",
    "def funcao_mutacao(individuo):\n",
    "    return mutacao_himmelblau(individuo, intervalo, precisao)"
   ]
  },
  {
   "cell_type": "code",
   "execution_count": 16,
   "metadata": {},
   "outputs": [
    {
     "name": "stdout",
     "output_type": "stream",
     "text": [
      "Um par ordenado que fornece o mínimo valor possível aproximado para a equação de Himmelblau é (x,y) = (-2.82137,3.13399)\n"
     ]
    }
   ],
   "source": [
    "populacao = cria_populacao_inicial(intervalo)\n",
    "\n",
    "melhor_fitness_ja_visto = float(\"inf\")\n",
    "\n",
    "while melhor_fitness_ja_visto != 0:\n",
    "    # Seleção\n",
    "    fitness = funcao_objetivo_pop(populacao)\n",
    "    populacao = funcao_selecao(populacao, fitness)\n",
    "    \n",
    "    # Cruzamento\n",
    "    pais = populacao[0::2]\n",
    "    maes = populacao[1::2]\n",
    "    \n",
    "    contador = 0\n",
    "    \n",
    "    for pai, mae in zip(pais, maes):\n",
    "        if random.random() <= CHANCE_CRUZAMENTO:\n",
    "            filho1, filho2 = funcao_cruzamento(pai, mae)\n",
    "            populacao[contador] = filho1\n",
    "            populacao[contador + 1] = filho2\n",
    "        \n",
    "        contador = contador + 2   \n",
    "        \n",
    "    # Mutação\n",
    "    for n in range(len(populacao)):\n",
    "        if random.random() <= CHANCE_MUTACAO:\n",
    "            individuo = populacao[n]\n",
    "            populacao[n] = funcao_mutacao(individuo)            \n",
    "            \n",
    "    # melhor individuo já visto até agora\n",
    "    fitness = funcao_objetivo_pop(populacao)\n",
    "    menor_fitness = min(fitness)\n",
    "    if menor_fitness < melhor_fitness_ja_visto:        \n",
    "        posicao = fitness.index(menor_fitness)\n",
    "        melhor_individuo_ja_visto = populacao[posicao]\n",
    "        melhor_fitness_ja_visto = menor_fitness\n",
    "        \n",
    "print(f\"Um par ordenado que fornece o mínimo valor possível aproximado para a equação de Himmelblau é (x,y) = ({melhor_individuo_ja_visto[0]},{melhor_individuo_ja_visto[1]})\")"
   ]
  },
  {
   "cell_type": "markdown",
   "metadata": {},
   "source": [
    "<font color='red'><font size='4'>O algoritmo genético foi utilizado, então, para encontrar um par ordenado que fornece o mínimo valor da função, 0. Entretanto, sabe-se que existem 4 pares que fornecem o mínimo, os quais são: <p> $$H(x,y) = 0 \\begin{cases}\n",
    "(x,y) = (3,2)\\\\\n",
    "(x,y) = (−3.779310, −3.283186)\\\\\n",
    "(x,y) = (3.584458, −1.848126)\\\\\n",
    "(x,y) = (−2.805118, 3.283186)\n",
    "\\end{cases}$$ <p>Dessa forma, o algoritmo fornece valores aproximados para um desses pares e se quisermos ter todos eles, precisamos armazená-los e recomeçar o processo. Além disso, também é importante notar que o par ordenado fornecido será qualquer um dos 4 e que a velocidade com que ele encontra depende dos valores para constantes escolhidas, especialmente da precisão desejada para o valor de mínimo."
   ]
  },
  {
   "cell_type": "code",
   "execution_count": 18,
   "metadata": {},
   "outputs": [
    {
     "name": "stdout",
     "output_type": "stream",
     "text": [
      "Os indivíduos que minimizam a função são: \n",
      " [-2.81171, 3.12503] \n",
      " [3.5982, -1.85257] \n",
      " [3.01566, 1.98946] \n",
      " [-3.78433, -3.27156]\n"
     ]
    }
   ],
   "source": [
    "hall_da_fama = []\n",
    "aux = []\n",
    "\n",
    "while len(hall_da_fama) < 4:\n",
    "\n",
    "    populacao = cria_populacao_inicial(intervalo)\n",
    "    \n",
    "    melhor_fitness_ja_visto = float(\"inf\")\n",
    "    \n",
    "    while melhor_fitness_ja_visto != 0:\n",
    "        # Seleção\n",
    "        fitness = funcao_objetivo_pop(populacao)\n",
    "        populacao = funcao_selecao(populacao, fitness)\n",
    "        \n",
    "        # Cruzamento\n",
    "        pais = populacao[0::2]\n",
    "        maes = populacao[1::2]\n",
    "        \n",
    "        contador = 0\n",
    "        \n",
    "        for pai, mae in zip(pais, maes):\n",
    "            if random.random() <= CHANCE_CRUZAMENTO:\n",
    "                filho1, filho2 = funcao_cruzamento(pai, mae)\n",
    "                populacao[contador] = filho1\n",
    "                populacao[contador + 1] = filho2\n",
    "            \n",
    "            contador = contador + 2   \n",
    "            \n",
    "        # Mutação\n",
    "        for n in range(len(populacao)):\n",
    "            if random.random() <= CHANCE_MUTACAO:\n",
    "                individuo = populacao[n]\n",
    "                populacao[n] = funcao_mutacao(individuo)            \n",
    "                \n",
    "        # melhor individuo já visto até agora\n",
    "        fitness = funcao_objetivo_pop(populacao)\n",
    "        menor_fitness = min(fitness)\n",
    "        if menor_fitness < melhor_fitness_ja_visto:        \n",
    "            posicao = fitness.index(menor_fitness)\n",
    "            melhor_individuo_ja_visto = populacao[posicao]\n",
    "            melhor_fitness_ja_visto = menor_fitness\n",
    "            \n",
    "    #print(f\"Um par ordenado que fornece o mínimo valor possível aproximado para a equação de Himmelblau é (x,y) = ({melhor_individuo_ja_visto[0]},{melhor_individuo_ja_visto[1]})\")\n",
    "    \n",
    "    if melhor_individuo_ja_visto not in hall_da_fama:\n",
    "        x,y = round(melhor_individuo_ja_visto[0], a), round(melhor_individuo_ja_visto[1], a)\n",
    "        if len(hall_da_fama) == 0:\n",
    "            hall_da_fama.append(melhor_individuo_ja_visto)\n",
    "            aux.append([x,y])\n",
    "        if len(hall_da_fama) > 0:\n",
    "            xs = []\n",
    "            ys = []\n",
    "            for individuo in aux:\n",
    "                xs.append(individuo[0])\n",
    "                ys.append(individuo[1])\n",
    "            if x not in xs and y not in ys:\n",
    "                aux.append([x,y])\n",
    "                hall_da_fama.append(melhor_individuo_ja_visto)\n",
    "            \n",
    "print(f\"Os indivíduos que minimizam a função são: \\n {hall_da_fama[0]} \\n {hall_da_fama[1]} \\n {hall_da_fama[2]} \\n {hall_da_fama[3]}\")"
   ]
  },
  {
   "cell_type": "markdown",
   "metadata": {},
   "source": [
    "<font color='red'><font size='4'>Como dito antes, temos vários pontos de mínimo e por isso foi implementado um hall da fama para armazenar os indíviduos da maneira mais simples possível, ou seja, mudando o mínimo possível. Assim, o hall da fama registra o melhor indivíduo de uma população e depois a população é renovada. Dessa forma, aumentamos as chances de registrar todos os pontos, e para minimizar as chances de guardar repetidos, verifica-se a presença dos valores na lista com o uso de arrendondamentos."
   ]
  },
  {
   "cell_type": "markdown",
   "metadata": {},
   "source": [
    "## Conclusão\n",
    "\n"
   ]
  },
  {
   "cell_type": "markdown",
   "metadata": {},
   "source": [
    "<font color='red'><font size='4'>A função de Himmelblau é um equação com 4 mínimos globais, ou seja, com 4 valores que nos fornecem o menor valor possível para a função, $H(x,y) = 0$. Dessa forma, é possível encontrar todos esses valores usando algoritmos genéticos e vimos nesse notebook que, para isso, precisamos definir um intervalo razoável de busca e o refinamento da nossa resposta. <p> Logo, conseguimos encontrar mais uma utilidade para esses algoritmos e também foi possível generalizá-lo para termos uma resposta completa."
   ]
  }
 ],
 "metadata": {
  "kernelspec": {
   "display_name": "ilumpy",
   "language": "python",
   "name": "ilumpy"
  },
  "language_info": {
   "codemirror_mode": {
    "name": "ipython",
    "version": 3
   },
   "file_extension": ".py",
   "mimetype": "text/x-python",
   "name": "python",
   "nbconvert_exporter": "python",
   "pygments_lexer": "ipython3",
   "version": "3.9.7"
  },
  "org": null
 },
 "nbformat": 4,
 "nbformat_minor": 4
}
