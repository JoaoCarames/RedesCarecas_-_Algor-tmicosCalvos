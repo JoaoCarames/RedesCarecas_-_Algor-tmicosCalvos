{
 "cells": [
  {
   "cell_type": "markdown",
   "metadata": {},
   "source": [
    "Descobrindo a senha\n",
    "===================\n",
    "\n"
   ]
  },
  {
   "cell_type": "markdown",
   "metadata": {},
   "source": [
    "## Objetivo\n",
    "\n"
   ]
  },
  {
   "cell_type": "markdown",
   "metadata": {},
   "source": [
    "Usar um algoritmo genético para descobrir uma senha.\n",
    "\n"
   ]
  },
  {
   "cell_type": "markdown",
   "metadata": {},
   "source": [
    "## Descrição do problema\n",
    "\n"
   ]
  },
  {
   "cell_type": "markdown",
   "metadata": {},
   "source": [
    "Neste problema, a função objetivo deve saber a senha correta e quantificar de alguma maneira o quão perto ou longe os palpites estão da solução (veja que isso é algo que não temos no mundo real. Nenhum site irá te dizer se você está acertando ou errando seu palpite). O critério de parada deste problema é quando a senha for descoberta.\n",
    "\n"
   ]
  },
  {
   "cell_type": "markdown",
   "metadata": {},
   "source": [
    "## Importações\n",
    "\n"
   ]
  },
  {
   "cell_type": "code",
   "execution_count": 5,
   "metadata": {},
   "outputs": [],
   "source": [
    "from funcoes import populacao_inicial_senha\n",
    "from funcoes import funcao_objetivo_pop_senha\n",
    "from funcoes import selecao_torneio_min\n",
    "from funcoes import cruzamento_ponto_simples as funcao_cruzamento\n",
    "from funcoes import mutacao_senha\n",
    "import random"
   ]
  },
  {
   "cell_type": "markdown",
   "metadata": {},
   "source": [
    "## Códigos e discussão\n",
    "\n"
   ]
  },
  {
   "cell_type": "code",
   "execution_count": 17,
   "metadata": {},
   "outputs": [],
   "source": [
    "### CONSTANTES\n",
    "\n",
    "# relacionadas à busca\n",
    "TAMANHO_POP = 50\n",
    "NUM_GERACOES = 2000\n",
    "CHANCE_CRUZAMENTO = 0.5\n",
    "CHANCE_MUTACAO = 0.05\n",
    "NUM_COMBATENTES_NO_TORNEIO = 3\n",
    "\n",
    "# relacionadas ao problema a ser resulvido\n",
    "SENHA = \"SportClubCorinthiansPaulista\"\n",
    "LETRAS_POSSIVEIS = \"abcdefghijklmnopqrstuvwxyzABCDEFGHIJKLMNOPQRSTUVWYZ\"\n",
    "NUM_GENES = len(SENHA)"
   ]
  },
  {
   "cell_type": "code",
   "execution_count": 18,
   "metadata": {},
   "outputs": [],
   "source": [
    "# funções locais\n",
    "\n",
    "def cria_populacao_inicial(tamanho, tamanho_senha):\n",
    "    return populacao_inicial_senha(tamanho, tamanho_senha, LETRAS_POSSIVEIS)\n",
    "\n",
    "def funcao_objetivo_pop(populacao):\n",
    "    return funcao_objetivo_pop_senha(populacao, SENHA)\n",
    "\n",
    "def funcao_selecao(populacao, fitness):\n",
    "    return selecao_torneio_min(populacao, fitness, NUM_COMBATENTES_NO_TORNEIO)\n",
    "\n",
    "def funcao_mutacao(individuo):\n",
    "    return mutacao_senha(individuo, LETRAS_POSSIVEIS)"
   ]
  },
  {
   "cell_type": "code",
   "execution_count": 22,
   "metadata": {},
   "outputs": [
    {
     "name": "stdout",
     "output_type": "stream",
     "text": [
      "Progresso da melhor senha já vista:\n",
      "\n",
      "VsxyyYOLqzycrnjnzzWwIBvZgkUj - fitness: 415\n",
      "VsxyyYOLqzycrnjnzzWwIBvZgtGb - fitness: 414\n",
      "WgrpjNkCUNytosmRHsgcAKoZocfE - fitness: 365\n",
      "WgrpjNkCUNytrnjnzzWwIBvZgkUj - fitness: 327\n",
      "WgrpjNkCUNytrnjnzzWwIBvZocfj - fitness: 322\n",
      "WgrpjNkCUNytosmnzzWwIBvZocfj - fitness: 321\n",
      "WgrpjNkCUNytrnjnzzgcAKoZokvP - fitness: 310\n",
      "WgrpjNkCUNytrnjnzzgcAKoZokvj - fitness: 302\n",
      "WgrpjNkCUNytrnjnzzWwIhvZgkvP - fitness: 282\n",
      "WgrpjNkdUNytrnjnzzWwIBvZgkvP - fitness: 273\n",
      "WgrpjNkdUNytrnjnzzWwIhvZgkvP - fitness: 249\n",
      "WgrpjNkdUNytrnsnzzWwIhvZgkvP - fitness: 240\n",
      "WgrpjNkdUNytrnjnzzWwIhvZgkve - fitness: 236\n",
      "WgrpjNkdUNytrnsnzzWwIhvZgkve - fitness: 227\n",
      "WgrpjNldUNytrnsnzzWwIhvZgkve - fitness: 226\n",
      "WgrpjNkdUNytrnsnzzkwIhvZgkve - fitness: 207\n",
      "WgrpjNkdUNyrqnsnzzkwIhvZgkve - fitness: 204\n",
      "WgrpjNkdUNytrnsnzzkwNhvZgkve - fitness: 202\n",
      "WgrpjNktUNyrrnsnzzjwIhvZgkve - fitness: 190\n",
      "WgrpjNktUNyrrnsnzzkwNhvZgkve - fitness: 184\n",
      "WgrpjNktUNyrqnsnzzkwNhvZgkve - fitness: 183\n",
      "WgrpzNktUNyrrnsmzzkwNhvZgkve - fitness: 179\n",
      "WgrpzNktUNyrrnsmzzkwNhvZhkve - fitness: 178\n",
      "WgrpzNktgNyrrnsmzzkwNhvZhkve - fitness: 170\n",
      "WgrpzDktUNyrrnsmzzkwNhvZhkve - fitness: 168\n",
      "WgrpzDktUNyrrnsmzjkwNhvZhkve - fitness: 152\n",
      "WgrpzDktUNyrrnsmzakwNhvZhkve - fitness: 143\n",
      "WgrpzDktgNyrrnsmzakwNhvZhkve - fitness: 135\n",
      "TgrpzDktgNyrrnsmzakwNhvZhkve - fitness: 132\n",
      "TgrpzDktgNyrrnshzakwNhvZhkve - fitness: 127\n",
      "TgrpzDktgNyrrnshaakwNhvZhkve - fitness: 118\n",
      "TgrpzDktgJyrrnshaakwNhvZhkve - fitness: 114\n",
      "TgrpzDktgJprrnshaakwNhvZhkve - fitness: 105\n",
      "TgrpzDktgJprrnshaakwNfvZhkve - fitness: 103\n",
      "TgrpzDktgJprrnshaakwNhvZhove - fitness: 101\n",
      "TgrpzDktgJprrnshaakwPhvZhove - fitness: 99\n",
      "TtrpzDktgJprrnshaakwPhvZhove - fitness: 94\n",
      "TprpzDktgJprrnshaakwPhvZhove - fitness: 90\n",
      "TprpzDktgJprrnshaakwPfvZhove - fitness: 88\n",
      "TprpzDktgJprrnshaakwPdvZhove - fitness: 86\n",
      "TprpxDktgJprrnshaakwPdvZhove - fitness: 84\n",
      "TprpzDktgFprrnshaakwPdvZhove - fitness: 82\n",
      "TprpxDktgFprrnshaakwPdvZhove - fitness: 80\n",
      "TprpxDktgFprrnshaapwPdvZhove - fitness: 79\n",
      "TprpuDktgFprrnshaapwPdvZhove - fitness: 76\n",
      "TprpuDktfFprrnshaapwPdvZhove - fitness: 75\n",
      "TprpuDktfFprrnshaapwPdvghove - fitness: 62\n",
      "TprpuDktfFprlnshaapwPdvghove - fitness: 56\n",
      "TprpuDktfFprlnshaapwPdvghovc - fitness: 54\n",
      "TprsuDktfFprlnshaapwPdvghovc - fitness: 53\n",
      "TprsuDktfFprlnshaapwPdvghouc - fitness: 52\n",
      "TprsuDktfFprlnshaapwPavghouc - fitness: 49\n",
      "TprsuDktfFprlnshjapwPavghouc - fitness: 42\n",
      "TprstDktfFprlnshjapwPavghouc - fitness: 41\n",
      "TprstDktfEprlnshjapwPavghouc - fitness: 40\n",
      "TprstDktfEprlnshjapwPavghuuc - fitness: 38\n",
      "TprstDkteEprlnshjapwPavghuuc - fitness: 37\n",
      "TprstDktaEprlnshjapwPavghuuc - fitness: 35\n",
      "TprstDktaEprlnshjaprPavghuuc - fitness: 32\n",
      "TprstDktaEprlnshjaprPavghutc - fitness: 31\n",
      "TpnstDktaEprlnthjaprPavghuuc - fitness: 29\n",
      "TpnstDktaEprlnthjaprPavghsuc - fitness: 27\n",
      "TpnstDktaEprlnthjaorPavghsuc - fitness: 26\n",
      "TpnstDktaEprlnthjaprPavohsuc - fitness: 25\n",
      "TpnstDktaEprlnthjaorPavohsuc - fitness: 24\n",
      "TpnstDktaCprlnthjaorPavohsuc - fitness: 22\n",
      "TpnstDkuaEprlnthjaorPavmhsuc - fitness: 21\n",
      "TpnstDkuaEprlnthjanrPavmhsuc - fitness: 20\n",
      "TpnstDkuaEprlnthjanrPaumhsuc - fitness: 19\n",
      "TpnstDkuaEprknthjanrPaumhsuc - fitness: 18\n",
      "SpnstDkuaEprknthjanrPaumhsuc - fitness: 17\n",
      "SpnstDkuaEprknthjansPaumhsuc - fitness: 16\n",
      "SpnstDkuaEprknthiansPaumhsuc - fitness: 15\n",
      "SpnstDkuaEorknthiansPaumhsuc - fitness: 14\n",
      "SpnstDkuaEorhnthiansPaumhsuc - fitness: 13\n",
      "SpnstDkuaEorinthiansPaumhsuc - fitness: 12\n",
      "SpnstDluaEorinthiansPaumhsuc - fitness: 11\n",
      "SpnstDluaEorinthiansPaumhsub - fitness: 10\n",
      "SpnstDlubEorinthiansPaumhsub - fitness: 9\n",
      "SpnstDlubEorinthiansPaumhstb - fitness: 8\n",
      "SpnstClubEorinthiansPaumhstb - fitness: 7\n",
      "SpnstClubCorinthiansPaumhstb - fitness: 5\n",
      "SpostClubEorinthiansPaulistb - fitness: 4\n",
      "SpostClubEorinthiansPaulista - fitness: 3\n",
      "SpostClubBorinthiansPaulista - fitness: 2\n",
      "SportClubBorinthiansPaulista - fitness: 1\n",
      "SportClubCorinthiansPaulista - fitness: 0\n",
      "\n",
      "Melhor palpite da senha encontrado:\n",
      "SportClubCorinthiansPaulista\n"
     ]
    }
   ],
   "source": [
    "populacao = cria_populacao_inicial(TAMANHO_POP, NUM_GENES)\n",
    "\n",
    "melhor_fitness_ja_visto = float(\"inf\")  # é assim que escrevemos infinito em python\n",
    "\n",
    "print(\"Progresso da melhor senha já vista:\")\n",
    "print()\n",
    "\n",
    "while melhor_fitness_ja_visto != 0:   \n",
    "    \n",
    "    # Seleção\n",
    "    fitness = funcao_objetivo_pop(populacao)\n",
    "    populacao = funcao_selecao(populacao, fitness)\n",
    "    \n",
    "    # Cruzamento\n",
    "    pais = populacao[0::2]\n",
    "    maes = populacao[1::2]\n",
    "    \n",
    "    contador = 0\n",
    "    \n",
    "    for pai, mae in zip(pais, maes):\n",
    "        if random.random() <= CHANCE_CRUZAMENTO:\n",
    "            filho1, filho2 = funcao_cruzamento(pai, mae)\n",
    "            populacao[contador] = filho1\n",
    "            populacao[contador + 1] = filho2\n",
    "        \n",
    "        contador = contador + 2   \n",
    "        \n",
    "    # Mutação\n",
    "    for n in range(len(populacao)):\n",
    "        if random.random() <= CHANCE_MUTACAO:\n",
    "            individuo = populacao[n]\n",
    "            populacao[n] = funcao_mutacao(individuo)            \n",
    "            \n",
    "    # melhor individuo já visto até agora\n",
    "    fitness = funcao_objetivo_pop(populacao)\n",
    "    menor_fitness = min(fitness)\n",
    "    if menor_fitness < melhor_fitness_ja_visto:        \n",
    "        posicao = fitness.index(menor_fitness)\n",
    "        melhor_individuo_ja_visto = populacao[posicao]\n",
    "        melhor_fitness_ja_visto = menor_fitness\n",
    "        print(\"\".join(melhor_individuo_ja_visto), \"- fitness:\", melhor_fitness_ja_visto)\n",
    "\n",
    "print()\n",
    "print(\"Melhor palpite da senha encontrado:\")\n",
    "print(\"\".join(melhor_individuo_ja_visto))"
   ]
  },
  {
   "cell_type": "markdown",
   "metadata": {},
   "source": [
    "## Conclusão\n",
    "\n"
   ]
  },
  {
   "cell_type": "markdown",
   "metadata": {},
   "source": [
    "Vemos aqui mais uma atividade possível para melhor compreender os possíveis usos dos algoritmos genéticos. Dessa vez, o algoritmo foi usado para encontrar uma senha, sabendo a senha. Como assim???\n",
    "\n",
    "Digamos que você tem um problema com diversos indivíduos representáveis por caracteres e você conhece um ou mais indíviduos ideais que sejam de seu interesse por algum conjunto de critérios. Então, você pode usar esse algoritmo exemplificado com a senha, onde você seleciona, cruza e muta indivíduos de uma dada população inicial para fazer a senha por meio do algoritmo, com o critério sendo a distância para a senha, sendo que a distância é calculada com o uso da função ord que transforma caracteres em números e medimos a distância gene à gene.\n",
    "\n",
    "Um exemplo aqui: vai que eu quero encontrar uma sequência específica usando juntando trechos de DNA de indivíduos diferentes, literalmente indivíduos, orgânicos e tudo mais. Aí, teoricamente, usando critérios bioquímicos e termodinâmicos de possibilidade de ocorrência, seria viável juntar os pedaços deles ao longo das gerações (experimentos) até encontrar aquela sequência que expressa o que eu quero. O exemplo foi citado em sala e achei muito pertinente registrar aqui.\n",
    "\n",
    "Sendo assim, temos mais uma forma de uso dos algoritmos genéticos, esse que pode ser aprimorado para a descoberta de uma sequência a partir de uma população e de critérios para os processos do algoritmo. Vale notar que essa abordagem foi bem interessante e julgo também interessante mudarmos os parâmetros de acordo com o nosso problema, de maneira a otimizar os objetivos."
   ]
  },
  {
   "cell_type": "markdown",
   "metadata": {},
   "source": [
    "## Playground\n",
    "\n"
   ]
  },
  {
   "cell_type": "code",
   "execution_count": null,
   "metadata": {},
   "outputs": [],
   "source": []
  }
 ],
 "metadata": {
  "kernelspec": {
   "display_name": "ilumpy",
   "language": "python",
   "name": "ilumpy"
  },
  "language_info": {
   "codemirror_mode": {
    "name": "ipython",
    "version": 3
   },
   "file_extension": ".py",
   "mimetype": "text/x-python",
   "name": "python",
   "nbconvert_exporter": "python",
   "pygments_lexer": "ipython3",
   "version": "3.9.7"
  },
  "org": null
 },
 "nbformat": 4,
 "nbformat_minor": 4
}
