{
 "cells": [
  {
   "cell_type": "markdown",
   "metadata": {},
   "source": [
    "Descobrindo a senha\n",
    "===================\n",
    "\n"
   ]
  },
  {
   "cell_type": "markdown",
   "metadata": {},
   "source": [
    "## Objetivo\n",
    "\n"
   ]
  },
  {
   "cell_type": "markdown",
   "metadata": {},
   "source": [
    "Usar um algoritmo genético para descobrir uma senha.\n",
    "\n"
   ]
  },
  {
   "cell_type": "markdown",
   "metadata": {},
   "source": [
    "## Descrição do problema\n",
    "\n"
   ]
  },
  {
   "cell_type": "markdown",
   "metadata": {},
   "source": [
    "Neste problema, a função objetivo deve saber a senha correta e quantificar de alguma maneira o quão perto ou longe os palpites estão da solução (veja que isso é algo que não temos no mundo real. Nenhum site irá te dizer se você está acertando ou errando seu palpite). O critério de parada deste problema é quando a senha for descoberta.\n",
    "\n"
   ]
  },
  {
   "cell_type": "markdown",
   "metadata": {},
   "source": [
    "## Importações\n",
    "\n"
   ]
  },
  {
   "cell_type": "code",
   "execution_count": 12,
   "metadata": {},
   "outputs": [],
   "source": [
    "from funcoes import selecao_roleta_max as funcao_selecao\n",
    "from funcoes import cruzamento_ponto_simples as funcao_cruzamento\n",
    "\n",
    "import random"
   ]
  },
  {
   "cell_type": "markdown",
   "metadata": {},
   "source": [
    "## Códigos e discussão\n",
    "\n"
   ]
  },
  {
   "cell_type": "code",
   "execution_count": 155,
   "metadata": {},
   "outputs": [],
   "source": [
    "# Constantes\n",
    "\n",
    "# Relacionadas à busca\n",
    "TAMANHO_POP = 5\n",
    "NUM_GERACOES = 20\n",
    "CHANCE_CRUZAMENTO = 0.5\n",
    "CHANCE_MUTACAO = 0.1\n",
    "\n",
    "# Relacionadas ao problema a ser resolvido\n",
    "NUM_GENES = 4\n",
    "VALOR_MAX_CAIXA = 9\n",
    "SENHA = [2, 0, 2, 3]"
   ]
  },
  {
   "cell_type": "code",
   "execution_count": 156,
   "metadata": {},
   "outputs": [],
   "source": [
    "# Funções Locais\n",
    "\n",
    "def gene_senha(valor_max_caixa):\n",
    "    \"\"\"Gera um gene válido para o problema da senha\n",
    "    \n",
    "    Args:\n",
    "        valor_max_caixa: Valor máximo que a caixa pode assumir\n",
    "        \n",
    "    Return:\n",
    "        Um valor entre 0 e o valor máximo.\n",
    "        \n",
    "    \"\"\"\n",
    "    \n",
    "    gene = random.randint(0, valor_max_caixa)\n",
    "    return gene\n",
    "    \n",
    "def individuo_senha(numero_genes, valor_max_caixa):\n",
    "    \"\"\"Gera um indivíduo válido para o problema da senha\n",
    "    \n",
    "    Args:\n",
    "        numero_genes: número de genes na lista que representa o indivíduo\n",
    "        valor_max_caixa: valor máximo que a caixa pode assumir\n",
    "        \n",
    "    Return:\n",
    "        Uma lista que representa um indivíduo válido para o problema da senha\n",
    "    \n",
    "    \"\"\"\n",
    "    \n",
    "    individuo = []\n",
    "    for _ in range(numero_genes):\n",
    "        gene = gene_senha(valor_max_caixa)\n",
    "        individuo.append(gene)\n",
    "    return individuo\n",
    "\n",
    "def populacao_senha(tamanho_populacao, numero_genes, valor_max_caixa):\n",
    "    \"\"\"Gera uma população de individuos para o problema da senha\n",
    "    \n",
    "    Args:\n",
    "        tamanho_populacao: número de indivíduos da população\n",
    "        numero_genes: número de genes de cada indivíduo\n",
    "        valor_max_caixa: valor máximo dos genes do indivíduo\n",
    "        \n",
    "    Return:\n",
    "        Uma lista onde cada item representa um indivíduo.\n",
    "    \"\"\"\n",
    "    \n",
    "    populacao = []\n",
    "    \n",
    "    for _ in range(tamanho_populacao):\n",
    "        individuo = individuo_senha(numero_genes, valor_max_caixa)\n",
    "        populacao.append(individuo)\n",
    "    \n",
    "    return populacao\n",
    "\n",
    "def funcao_objetivo_senha(individuo):\n",
    "    \"\"\"Calcula o fitness do individuo para o problema da senha\n",
    "    \n",
    "    Args:\n",
    "        individuo: lista que representa um individuo dentro do problema da senha\n",
    "    \n",
    "    \"\"\"\n",
    "    senha = SENHA\n",
    "    fitness = sum(individuo)\n",
    "    fitness_senha = sum(senha)\n",
    "    \n",
    "    diferenca = abs(fitness_senha - fitness)\n",
    "    \n",
    "    return ([fitness, diferenca])\n",
    "\n",
    "def funcao_objetivo_pop_senha(populacao):\n",
    "    \"\"\"Calcula o fitness da população completa\n",
    "    \n",
    "    Args:\n",
    "        populacao: lista com todos os individuos da população\n",
    "        \n",
    "    Return:\n",
    "        Uma lista com o fitness de cada indivíduo\n",
    "      \n",
    "    \"\"\"\n",
    "    \n",
    "    fitness_pop = []\n",
    "    diferenca_pop = []\n",
    "    \n",
    "    for individuo in populacao:\n",
    "        fitness = funcao_objetivo_senha(individuo)\n",
    "        fitness_ind = fitness[0]\n",
    "        diferenca_ind = fitness[1]\n",
    "        fitness_pop.append(fitness_ind)\n",
    "        diferenca_pop.append(diferenca_ind)\n",
    "    \n",
    "    return ([fitness_pop, diferenca_pop])\n",
    "\n",
    "def mutacao_senha(individuo, valor_max_caixa):\n",
    "    \"\"\"Realiza a mutação do individuo\n",
    "    \n",
    "    Args:\n",
    "        individuo: individuo que deve sofrer a mutação\n",
    "        valor_max_caixa: valor máximo que a caixa pode assumir\n",
    "        \n",
    "    Return:\n",
    "        individuo que sofreu uma mutação\n",
    "        \n",
    "    \"\"\"\n",
    "    gene_mutavel = random.randint(0, len(individuo) - 1)\n",
    "    individuo[gene_mutavel] = gene_senha(valor_max_caixa)\n",
    "    \n",
    "    return individuo"
   ]
  },
  {
   "cell_type": "code",
   "execution_count": 157,
   "metadata": {},
   "outputs": [],
   "source": [
    "# Funções locais\n",
    "\n",
    "def cria_populacao_inicial(tamanho, numero_genes):\n",
    "    return populacao_senha(tamanho, numero_genes, VALOR_MAX_CAIXA)\n",
    "\n",
    "def funcao_mutacao(individuo):\n",
    "    return mutacao_senha(individuo, VALOR_MAX_CAIXA)"
   ]
  },
  {
   "cell_type": "code",
   "execution_count": 160,
   "metadata": {},
   "outputs": [
    {
     "name": "stdout",
     "output_type": "stream",
     "text": [
      "População Inicial: [[7, 0, 0, 6], [8, 8, 6, 1], [8, 2, 1, 3], [6, 0, 1, 9], [4, 8, 9, 6]]\n",
      "\n",
      "População Final: [[2, 0, 2, 3], [2, 0, 2, 3], [2, 0, 2, 3], [2, 0, 2, 3], [2, 0, 2, 3]]\n"
     ]
    }
   ],
   "source": [
    "populacao = cria_populacao_inicial(TAMANHO_POP, NUM_GENES)\n",
    "\n",
    "print(\"População Inicial:\", populacao)\n",
    "print()\n",
    "\n",
    "diferenca_pop = [1]\n",
    "\n",
    "while sum(diferenca_pop) != 0:\n",
    "    #Acontece a seleção :)\n",
    "    \n",
    "    fitness = funcao_objetivo_pop_senha(populacao)\n",
    "    fitness_pop = fitness[0]\n",
    "    diferenca_pop = fitness[1]\n",
    "    populacao = funcao_selecao(populacao, fitness_pop)\n",
    "    pais = populacao[0::2]\n",
    "    maes = populacao[1::2]\n",
    "    contador = 0\n",
    "    \n",
    "    for pai, mae in zip(pais, maes):\n",
    "        if random.random() < CHANCE_CRUZAMENTO:\n",
    "            #Acontece o cruzamento :*\n",
    "            \n",
    "            filho1, filho2 = funcao_cruzamento(pai, mae) #\n",
    "            populacao[contador] = filho1\n",
    "            populacao[contador + 1] = filho2\n",
    "            \n",
    "        contador = contador + 2\n",
    "    \n",
    "    for n in range(len(populacao)):\n",
    "        if random.random() <= CHANCE_MUTACAO:\n",
    "            #Acontece a mutação ;)\n",
    "            \n",
    "            individuo = populacao[n]\n",
    "            populacao[n] = mutacao_senha(individuo, VALOR_MAX_CAIXA)\n",
    "\n",
    "print(\"População Final:\", populacao)"
   ]
  },
  {
   "cell_type": "code",
   "execution_count": 162,
   "metadata": {},
   "outputs": [
    {
     "name": "stdout",
     "output_type": "stream",
     "text": [
      "[2, 0, 2, 3]\n"
     ]
    }
   ],
   "source": [
    "print(SENHA)"
   ]
  },
  {
   "cell_type": "markdown",
   "metadata": {},
   "source": [
    "## Conclusão\n",
    "\n"
   ]
  },
  {
   "cell_type": "code",
   "execution_count": null,
   "metadata": {},
   "outputs": [],
   "source": []
  },
  {
   "cell_type": "markdown",
   "metadata": {},
   "source": [
    "## Playground\n",
    "\n"
   ]
  },
  {
   "cell_type": "code",
   "execution_count": null,
   "metadata": {},
   "outputs": [],
   "source": []
  }
 ],
 "metadata": {
  "kernelspec": {
   "display_name": "ilumpy",
   "language": "python",
   "name": "ilumpy"
  },
  "language_info": {
   "codemirror_mode": {
    "name": "ipython",
    "version": 3
   },
   "file_extension": ".py",
   "mimetype": "text/x-python",
   "name": "python",
   "nbconvert_exporter": "python",
   "pygments_lexer": "ipython3",
   "version": "3.9.7"
  },
  "org": null
 },
 "nbformat": 4,
 "nbformat_minor": 4
}
