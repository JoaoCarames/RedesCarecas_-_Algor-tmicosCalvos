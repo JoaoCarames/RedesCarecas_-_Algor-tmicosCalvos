{
 "cells": [
  {
   "cell_type": "markdown",
   "metadata": {},
   "source": [
    "Introdução à Classes\n",
    "====================\n",
    "\n"
   ]
  },
  {
   "cell_type": "markdown",
   "metadata": {},
   "source": [
    "## Introdução\n",
    "\n"
   ]
  },
  {
   "cell_type": "markdown",
   "metadata": {},
   "source": [
    "Quando queremos organizar objetos em uma certa ordem bem definida, usamos `listas`.\n",
    "\n",
    "Quando queremos relacionar dois objetos entre si, usamos `dicionários`.\n",
    "\n",
    "Quando queremos agrupar objetos únicos sem repetição e sem ordem bem definida, usamos `conjuntos`.\n",
    "\n",
    "Quando queremos executar uma sequência bem definida de ações, usamos `funções`.\n",
    "\n",
    "O que nós usamos quando queremos criar uma estrutura complexa de informações e ações onde apenas listas, dicionários, conjuntos e funções não são suficientes? Neste caso, usamos `classes`!\n",
    "\n"
   ]
  },
  {
   "cell_type": "markdown",
   "metadata": {},
   "source": [
    "## Código e discussão\n",
    "\n"
   ]
  },
  {
   "cell_type": "markdown",
   "metadata": {},
   "source": [
    "### A classe mais simples do mundo\n",
    "\n"
   ]
  },
  {
   "cell_type": "markdown",
   "metadata": {},
   "source": [
    "A classe mais simples do mundo é simplesmente um amontoado de informação. Classes devem ser nomeadas sempre com a primeira letra em maiúsculo.\n",
    "\n"
   ]
  },
  {
   "cell_type": "code",
   "execution_count": 1,
   "metadata": {},
   "outputs": [],
   "source": [
    "class Dados:\n",
    "    dado1 = 'Dio é melhor que Ozzy'\n",
    "    dado2 = 1970\n",
    "    dado3 = ['Paranoid','Heaven and Hell','Children of the Sea']\n",
    "    dado4 = {\"Black Sabbath\": ['Black Sabbath','The Wizard','Behind the Wall of Sleep','N.I.B.','Evil Woman','Sleeping Village',\n",
    "                               'Warning'],\n",
    "             \"Paranoid\": ['War Pigs','Paranoid','Planet Caravan','Iron Man','Eletric Funeral','Hand of Doom','Rat Salad',\n",
    "                         'Fairies Wear Boots']\n",
    "            }"
   ]
  },
  {
   "cell_type": "markdown",
   "metadata": {},
   "source": [
    "Para criar um objeto baseado na sua classe, basta chamá-la com o parênteses, da mesma forma que fazemos com funções.\n",
    "\n"
   ]
  },
  {
   "cell_type": "code",
   "execution_count": 2,
   "metadata": {},
   "outputs": [],
   "source": [
    "Sabbath = Dados()"
   ]
  },
  {
   "cell_type": "markdown",
   "metadata": {},
   "source": [
    "Agora podemos acessar os objetos da classe. Para isso usamos o ponto final.\n",
    "\n"
   ]
  },
  {
   "cell_type": "code",
   "execution_count": 3,
   "metadata": {},
   "outputs": [
    {
     "name": "stdout",
     "output_type": "stream",
     "text": [
      "Paranoid\n",
      "['Black Sabbath', 'The Wizard', 'Behind the Wall of Sleep', 'N.I.B.', 'Evil Woman', 'Sleeping Village', 'Warning']\n"
     ]
    }
   ],
   "source": [
    "print(Sabbath.dado3[0])\n",
    "print(Sabbath.dado4[\"Black Sabbath\"])"
   ]
  },
  {
   "cell_type": "markdown",
   "metadata": {},
   "source": [
    "Se você se perguntou &ldquo;uai, mas por que usar uma classe sendo que um dicionário faria efetivamente a mesma coisa?&rdquo;, então você está no caminho certo. Apenas armazenar dados em uma classe desta forma não representa uma vantagem objetiva em relação à usar um dicionário. Vamos seguir em frente!\n",
    "\n"
   ]
  },
  {
   "cell_type": "markdown",
   "metadata": {},
   "source": [
    "<font color='red'><font size='4'>*Aqui vemos como uma classe pode ser usada para armazenar dados, ou seja, dentro das classes podemos criar diversos módulos, dentre eles, módulos que armazenam dados de diversas maneiras, as quais podem variar de acordo com o problema. Como exemplo, vemos como acessar uma lista armazenada como módulo da classe e também um dicionário.*"
   ]
  },
  {
   "cell_type": "markdown",
   "metadata": {},
   "source": [
    "### Classes podem fazer algo ao serem criadas\n",
    "\n"
   ]
  },
  {
   "cell_type": "markdown",
   "metadata": {},
   "source": [
    "Quando nós criamos uma classe, nós dizemos que criamos uma instância desta classe. Uma instância de uma classe representa um objeto que tem as propriedades da classe.\n",
    "\n",
    "Ao instanciar uma classe, você pode executar uma tarefa. Para isso, defina o método `__init__` usando necessariamente o `self` como primeiro argumento.\n",
    "\n"
   ]
  },
  {
   "cell_type": "code",
   "execution_count": 4,
   "metadata": {},
   "outputs": [],
   "source": [
    "class Material:\n",
    "    def __init__(self, modulo_elastico):\n",
    "        self.modulo_elastico = modulo_elastico"
   ]
  },
  {
   "cell_type": "markdown",
   "metadata": {},
   "source": [
    "Agora podemos criar um objeto da classe `Material` com um certo valor de módulo elástico.\n",
    "\n"
   ]
  },
  {
   "cell_type": "code",
   "execution_count": 5,
   "metadata": {},
   "outputs": [
    {
     "name": "stdout",
     "output_type": "stream",
     "text": [
      "<__main__.Material object at 0x0000012401DECBE0>\n",
      "100\n"
     ]
    }
   ],
   "source": [
    "modulo_elastico_do_meu_material = 100\n",
    "meu_material = Material(modulo_elastico_do_meu_material)\n",
    "\n",
    "print(meu_material)\n",
    "print(meu_material.modulo_elastico)"
   ]
  },
  {
   "cell_type": "markdown",
   "metadata": {},
   "source": [
    "<font color='red'><font size='4'>*Da forma mostrada, é possível visualizar como criar uma classe com um módulo inicial, o qual pode atribuir especialmente valores iniciais, mutáveis ou não, que definem características principais para o nosso problema.*"
   ]
  },
  {
   "cell_type": "markdown",
   "metadata": {},
   "source": [
    "### Os métodos `dunder`\n",
    "\n"
   ]
  },
  {
   "cell_type": "markdown",
   "metadata": {},
   "source": [
    "Observe que acima usamos um método chamado `__init__` com prefixo de dois sublinhados e sufixo de dois sublinhados. Esses métodos com essa notação são especiais e são chamados de `dunder` (vem de *double underscore*, ou duplo sublinhado em português). Existem diversos métodos dunder!\n",
    "\n",
    "Os métodos dunder controlam certos comportamentos da nossa classe. Por exemplo, observe que quando damos `print` em um objeto instanciado de uma classe ele mostra um texto padrão do tipo `<__main__.Material object at 0x7f0d2b57f9a0>`. Quem controla o texto que é exibido é o método dunder `__repr__`. Vamos ver um exemplo.\n",
    "\n"
   ]
  },
  {
   "cell_type": "code",
   "execution_count": 6,
   "metadata": {},
   "outputs": [
    {
     "name": "stdout",
     "output_type": "stream",
     "text": [
      "Material com módulo elástico de 100 GPa.\n"
     ]
    }
   ],
   "source": [
    "class Material:\n",
    "    def __init__(self, modulo_elastico):\n",
    "        self.modulo_elastico = modulo_elastico\n",
    "\n",
    "    def __repr__(self):\n",
    "        return f\"Material com módulo elástico de {self.modulo_elastico} GPa.\"\n",
    "\n",
    "modulo_elastico_do_meu_material = 100\n",
    "meu_material = Material(modulo_elastico_do_meu_material)\n",
    "\n",
    "print(meu_material)"
   ]
  },
  {
   "cell_type": "markdown",
   "metadata": {},
   "source": [
    "<font color='red'><font size='4'>*Dessa maneira, podemos dar uma definição para a classe, ou seja, quando usarmos o comando print no objeto instanciado, ele irá retornar uma frase específica. Assim, outros métodos desse tipo terão comportamento parecido, quando aplicarmos uma função/operação/método, ele irá dar o retorno definido por nós com esses métodos.*"
   ]
  },
  {
   "cell_type": "markdown",
   "metadata": {},
   "source": [
    "### Os métodos que não são `dunder`\n",
    "\n"
   ]
  },
  {
   "cell_type": "markdown",
   "metadata": {},
   "source": [
    "Classes podem ter métodos que não são especiais. Vamos tentar implementar um método que usa a lei de Hook para calcular a tensão aplicada no material ($\\sigma$) dada uma deformação ($\\varepsilon$).\n",
    "\n",
    "$$\n",
    "\\sigma = E \\varepsilon\n",
    "$$\n",
    "\n"
   ]
  },
  {
   "cell_type": "code",
   "execution_count": 7,
   "metadata": {},
   "outputs": [
    {
     "name": "stdout",
     "output_type": "stream",
     "text": [
      "200\n"
     ]
    }
   ],
   "source": [
    "class Material:\n",
    "    def __init__(self, modulo_elastico):\n",
    "        self.modulo_elastico = modulo_elastico\n",
    "\n",
    "    def __repr__(self):\n",
    "        return f\"Material com módulo elástico de {self.modulo_elastico} GPa.\"\n",
    "    \n",
    "    def tensao(self, deformacao):\n",
    "        valor_tensao = self.modulo_elastico*deformacao\n",
    "        return valor_tensao\n",
    "\n",
    "modulo_elastico_do_meu_material = 100\n",
    "meu_material = Material(modulo_elastico_do_meu_material)\n",
    "\n",
    "deformacao = 2\n",
    "\n",
    "tensao = meu_material.tensao(deformacao)\n",
    "print(tensao)"
   ]
  },
  {
   "cell_type": "markdown",
   "metadata": {},
   "source": [
    "<font color='red'><font size='4'>*Por outro lado, os métodos não dunder são totalmente ligados aos problemas que temos e irão retornar depender dos nossos inputs, além do uso de funções/operações/métodos. Logo, vemos que é possível realizar um mix de informações armazenadas na classe e funções que podem usá-las.*"
   ]
  },
  {
   "cell_type": "markdown",
   "metadata": {},
   "source": [
    "### Alterando o estado da nossa classe\n",
    "\n"
   ]
  },
  {
   "cell_type": "markdown",
   "metadata": {},
   "source": [
    "Classes são estruturas de dados onde nos preocupamos com o seu estado. No exemplo acima, nosso material tem uma propriedade chamada de `modulo_elastico`. Digamos que nós podemos aumentar o módulo elástico do nosso material realizando um tratamento térmico. Cada vez que realizamos o tratamento térmico o módulo elástico aumenta em 10%, porém o material só aguenta no máximo 5 tratamentos térmicos. Alterar uma propriedade da nossa classe é alterar seu estado. Podemos adicionar esse processo de tratamento térmico na nossa classe.\n",
    "\n"
   ]
  },
  {
   "cell_type": "code",
   "execution_count": 8,
   "metadata": {},
   "outputs": [
    {
     "name": "stdout",
     "output_type": "stream",
     "text": [
      "Material com módulo elástico de 100 GPa.\n",
      "Material com módulo elástico de 110.00000000000001 GPa.\n",
      "Material com módulo elástico de 121.00000000000003 GPa.\n",
      "Material com módulo elástico de 133.10000000000005 GPa.\n",
      "Material com módulo elástico de 146.41000000000008 GPa.\n",
      "Material com módulo elástico de 161.0510000000001 GPa.\n",
      "Material com módulo elástico de 161.0510000000001 GPa.\n",
      "Material com módulo elástico de 161.0510000000001 GPa.\n"
     ]
    }
   ],
   "source": [
    "class Material:\n",
    "    def __init__(self, modulo_elastico):\n",
    "        self.modulo_elastico = modulo_elastico\n",
    "        self.num_tratamentos = 0\n",
    "\n",
    "    def __repr__(self):\n",
    "        return f\"Material com módulo elástico de {self.modulo_elastico} GPa.\"\n",
    "\n",
    "    def tratamento_termico(self):\n",
    "        if self.num_tratamentos < 5:\n",
    "            self.modulo_elastico = self.modulo_elastico * 1.1\n",
    "            self.num_tratamentos = self.num_tratamentos + 1\n",
    "\n",
    "modulo_elastico_do_meu_material = 100\n",
    "meu_material = Material(modulo_elastico_do_meu_material)\n",
    "\n",
    "print(meu_material)\n",
    "\n",
    "meu_material.tratamento_termico()\n",
    "print(meu_material)\n",
    "\n",
    "meu_material.tratamento_termico()\n",
    "print(meu_material)\n",
    "\n",
    "meu_material.tratamento_termico()\n",
    "print(meu_material)\n",
    "\n",
    "meu_material.tratamento_termico()\n",
    "print(meu_material)\n",
    "\n",
    "meu_material.tratamento_termico()\n",
    "print(meu_material)\n",
    "\n",
    "meu_material.tratamento_termico()\n",
    "print(meu_material)\n",
    "\n",
    "meu_material.tratamento_termico()\n",
    "print(meu_material)"
   ]
  },
  {
   "cell_type": "markdown",
   "metadata": {},
   "source": [
    "<font color='red'><font size='4'>*Nesse contexto, vemos como podemos criar um módulo da classe que altera valores dentro dela, ou seja, que alteram os valores iniciais de acordo com as definições que damos para nosso problema.*"
   ]
  },
  {
   "cell_type": "markdown",
   "metadata": {},
   "source": [
    "### Alterando o estado da nossa classe fora dela\n",
    "\n"
   ]
  },
  {
   "cell_type": "markdown",
   "metadata": {},
   "source": [
    "Em certos casos nós precisamos alterar alguma propriedade da nossa classe fora dela (isto é, fora das linhas de código que foram usadas para definir a classe). Podemos, por exemplo, alterar o módulo elástico do nosso material &ldquo;na mão&rdquo;.\n",
    "\n"
   ]
  },
  {
   "cell_type": "code",
   "execution_count": 9,
   "metadata": {},
   "outputs": [
    {
     "name": "stdout",
     "output_type": "stream",
     "text": [
      "Material com módulo elástico de 100 GPa.\n",
      "Material com módulo elástico de 200 GPa.\n"
     ]
    }
   ],
   "source": [
    "class Material:\n",
    "    def __init__(self, modulo_elastico):\n",
    "        self.modulo_elastico = modulo_elastico\n",
    "        self.num_tratamentos = 0\n",
    "\n",
    "    def __repr__(self):\n",
    "        return f\"Material com módulo elástico de {self.modulo_elastico} GPa.\"\n",
    "\n",
    "modulo_elastico_do_meu_material = 100\n",
    "meu_material = Material(modulo_elastico_do_meu_material)\n",
    "print(meu_material)\n",
    "\n",
    "# alterando a propriedade \"na mão\"\n",
    "meu_material.modulo_elastico = 200\n",
    "print(meu_material)"
   ]
  },
  {
   "cell_type": "markdown",
   "metadata": {},
   "source": [
    "Pense muito bem antes de sair alterando propriedades de classes &ldquo;na mão&rdquo;. Não é uma ação proibida, mas também não é algo que fazemos a todo momento sem justificativa.\n",
    "\n"
   ]
  },
  {
   "cell_type": "markdown",
   "metadata": {},
   "source": [
    "<font color='red'><font size='4'>*Por fim, é possível alterar os estado da classe fora dela, por meio de novas definições manuais. Assim, sabemos como manusear as classes de acordo com nossas necessidades.*"
   ]
  },
  {
   "cell_type": "markdown",
   "metadata": {},
   "source": [
    "### Testando suas habilidades\n",
    "\n"
   ]
  },
  {
   "cell_type": "markdown",
   "metadata": {},
   "source": [
    "Para testar suas habilidades, modifique a classe `Material` adicionando um novo argumento no método `__init__`, usando ele para criar uma nova propriedade e criando um novo método que altera o estado desta classe.\n",
    "\n"
   ]
  },
  {
   "cell_type": "code",
   "execution_count": 10,
   "metadata": {},
   "outputs": [],
   "source": [
    "class Black_Sabbath:\n",
    "    def __init__(self, gênero):\n",
    "        self.gênero = gênero"
   ]
  },
  {
   "cell_type": "code",
   "execution_count": 11,
   "metadata": {},
   "outputs": [
    {
     "name": "stdout",
     "output_type": "stream",
     "text": [
      "Heavy Metal\n"
     ]
    }
   ],
   "source": [
    "gênero = 'Heavy Metal'\n",
    "Band = Black_Sabbath(gênero)\n",
    "\n",
    "print(Band.gênero)"
   ]
  },
  {
   "cell_type": "code",
   "execution_count": 12,
   "metadata": {},
   "outputs": [
    {
     "name": "stdout",
     "output_type": "stream",
     "text": [
      "Black Sabbath é uma banda de Heavy Metal britânica.\n"
     ]
    }
   ],
   "source": [
    "class Black_Sabbath:\n",
    "    def __init__(self, gênero):\n",
    "        self.gênero = gênero\n",
    "        self.nome = 'Black Sabbath'\n",
    "        self.gentílico = 'britânica'\n",
    "    \n",
    "    def __repr__(self):\n",
    "        return f\"{self.nome} é uma banda de {self.gênero} {self.gentílico}.\"\n",
    "\n",
    "Band = Black_Sabbath(gênero)\n",
    "\n",
    "print(Band)"
   ]
  },
  {
   "cell_type": "markdown",
   "metadata": {},
   "source": [
    "Essa equação fornece a quantidade de vezes que batemos a cabeça em função do tempo (em minutos) de apresentação.\n",
    "$$Q_{hb} = bpm \\cdot t$$"
   ]
  },
  {
   "cell_type": "code",
   "execution_count": 13,
   "metadata": {},
   "outputs": [
    {
     "name": "stdout",
     "output_type": "stream",
     "text": [
      "210.0\n"
     ]
    }
   ],
   "source": [
    "class Black_Sabbath:\n",
    "    def __init__(self, gênero):\n",
    "        self.gênero = gênero\n",
    "        self.nome = 'Black Sabbath'\n",
    "        self.gentílico = 'britânica'\n",
    "    \n",
    "    def __repr__(self):\n",
    "        return f\"{self.nome} é uma banda de {self.gênero} {self.gentílico}.\"\n",
    "    \n",
    "    def batidasdecabeça(self, bpm, tempo):\n",
    "        Q = bpm*tempo\n",
    "        return Q\n",
    "\n",
    "Band = Black_Sabbath(gênero)\n",
    "    \n",
    "bpm = 60\n",
    "tempo = 3.5\n",
    "\n",
    "batidasdecabeça = Band.batidasdecabeça(bpm, tempo)\n",
    "\n",
    "print(batidasdecabeça)"
   ]
  },
  {
   "cell_type": "code",
   "execution_count": 14,
   "metadata": {},
   "outputs": [
    {
     "name": "stdout",
     "output_type": "stream",
     "text": [
      "210.0 420.0 630.0 840.0\n"
     ]
    }
   ],
   "source": [
    "class Black_Sabbath:\n",
    "    def __init__(self, gênero):\n",
    "        self.gênero = gênero\n",
    "        self.nome = 'Black Sabbath'\n",
    "        self.gentílico = 'britânica'\n",
    "        self.aumentos_de_volume = 1\n",
    "        \n",
    "    def __repr__(self):\n",
    "        return f\"{self.nome} é uma banda de {self.gênero} {self.gentílico}.\"\n",
    "    \n",
    "    def batidasdecabeça(self, bpm, tempo):\n",
    "        Q = bpm*tempo\n",
    "        return Q\n",
    "    \n",
    "    def maior_intensidade(self, bpm, tempo):\n",
    "        if self.aumentos_de_volume < 5:\n",
    "            self.aumentos_de_volume = self.aumentos_de_volume + 1\n",
    "            bpm = bpm * 1 * self.aumentos_de_volume\n",
    "            Qnovo = Black_Sabbath.batidasdecabeça(self, bpm, tempo)\n",
    "            return Qnovo\n",
    "\n",
    "Band = Black_Sabbath(gênero)\n",
    "    \n",
    "bpm = 60\n",
    "tempo = 3.5\n",
    "\n",
    "batidasdecabeça = Band.batidasdecabeça(bpm, tempo)\n",
    "maisbatidas = Band.maior_intensidade(bpm, tempo)\n",
    "aindamaisbatidas = Band.maior_intensidade(bpm, tempo)\n",
    "batendoloucamente = Band.maior_intensidade(bpm, tempo)\n",
    "\n",
    "print(batidasdecabeça, maisbatidas, aindamaisbatidas, batendoloucamente)"
   ]
  },
  {
   "cell_type": "markdown",
   "metadata": {},
   "source": [
    "<font color='red'><font size='4'>*Aqui, vemos a aplicação de classes para estudar a quantidade de batidas de cabeça durante a execução de uma música de uma banda específica, onde a classe atende apenas ao nosso problema, mas poderia ser generalizado para diferentes gêneros musicais e poderiamos obter outras grandezas para esses gêneros, como a quantidade de giros em um bom brega ou de cochilos em uma sonata. Então, também é perceptível o aumento na quantidade de batidas de cabeça de acordo com o aumento de volume da música.*"
   ]
  },
  {
   "cell_type": "markdown",
   "metadata": {},
   "source": [
    "## Conclusão\n",
    "\n"
   ]
  },
  {
   "cell_type": "markdown",
   "metadata": {},
   "source": [
    "<font color='red'><font size='4'>*Vimos que classes são objetos que permitem o armazenamento de dados e sua operação em um mesmo lugar, onde podemos alocar listas, tuplas, dicionários, funções, etc, dentro. Com isso, é possível instânciar outros objetos, ou seja, criar objetos que sigam a mesma receita de bolo da classe, sem alterar ela, e isso permite definir seu estado inicial e estudar suas mudanças.<br> Nesse contexto, foi feito o passo a passo de construção e entendimento das classes e seus primeiros usos, por meio de um exemplo envolvendo materiais e suas grandezas. Assim, as classes se mostraram uma ferramenta interessante para armazenar as grandezas, o estado inicial do material e entender sua evolução de acordo com a Lei de Hook, a qual foi definida dentro da classe, ou seja, a mudança de estado foi interna. Além disso, o mesmo esquema de desenvolvimento foi desenvolvido para um exemplo envolvendo música, onde o objetivo foi apenas de fixação do conteúdo apresentado e reformulação usando um contexto totalmente diferente para mostrar a versatilidade do objeto. <br> Portanto, o objeto classe é capaz de nos ajudar a gerenciar diferentes informações e tratá-las da maneira desejada/necessária de acordo com um problema. Fazendo uma analogia, é como organizar uma caixa de ferramentas (tipo bibliotecas) e/ou definir e estudar estados (como problemas de física). Assim, as classes oferecem um ferramental poderoso para a criação e resolução de diversos problemas.*"
   ]
  },
  {
   "cell_type": "markdown",
   "metadata": {},
   "source": [
    "## Playground\n",
    "\n"
   ]
  },
  {
   "cell_type": "code",
   "execution_count": 15,
   "metadata": {},
   "outputs": [],
   "source": [
    "#try:\n",
    "#    import graphviz\n",
    "#except ModuleNotFoundError:\n",
    "#    import sys\n",
    "#    !{sys.executable} -m pip install graphviz"
   ]
  },
  {
   "cell_type": "code",
   "execution_count": null,
   "metadata": {},
   "outputs": [],
   "source": []
  }
 ],
 "metadata": {
  "kernelspec": {
   "display_name": "ilumpy",
   "language": "python",
   "name": "ilumpy"
  },
  "language_info": {
   "codemirror_mode": {
    "name": "ipython",
    "version": 3
   },
   "file_extension": ".py",
   "mimetype": "text/x-python",
   "name": "python",
   "nbconvert_exporter": "python",
   "pygments_lexer": "ipython3",
   "version": "3.9.7"
  },
  "org": null
 },
 "nbformat": 4,
 "nbformat_minor": 4
}
