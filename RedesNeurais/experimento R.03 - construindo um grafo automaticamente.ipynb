{
 "cells": [
  {
   "cell_type": "markdown",
   "metadata": {},
   "source": [
    "Construindo um grafo automaticamente\n",
    "====================================\n",
    "\n"
   ]
  },
  {
   "cell_type": "markdown",
   "metadata": {},
   "source": [
    "## Introdução\n",
    "\n"
   ]
  },
  {
   "cell_type": "markdown",
   "metadata": {},
   "source": [
    "Neste notebook nós vamos dar o primeiro passo para construir nossa rede neural artificial. Neste primeiro passo, nós vamos criar uma classe que gera automaticamente o nosso `grafo computacional`. O grafo computacional é o grafo que representa todas as operações matemáticas que ocorreram ao se computar um certo valor $y$. O grafo computacional é um passo necessário pois será baseado nele que iremos computar os gradientes locais necessários para realizar o `backpropagation`.\n",
    "\n"
   ]
  },
  {
   "cell_type": "markdown",
   "metadata": {},
   "source": [
    "## Importações\n",
    "\n"
   ]
  },
  {
   "cell_type": "code",
   "execution_count": 1,
   "metadata": {},
   "outputs": [],
   "source": [
    "from graphviz import Digraph\n",
    "from funcoes import plota_grafo"
   ]
  },
  {
   "cell_type": "markdown",
   "metadata": {},
   "source": [
    "## Código e discussão\n",
    "\n"
   ]
  },
  {
   "cell_type": "markdown",
   "metadata": {},
   "source": [
    "### Primeiros passos\n",
    "\n"
   ]
  },
  {
   "cell_type": "markdown",
   "metadata": {},
   "source": [
    "A base de tudo será uma classe chamada `Valor`. Vamos começar pelo básico!\n",
    "\n"
   ]
  },
  {
   "cell_type": "code",
   "execution_count": 2,
   "metadata": {},
   "outputs": [],
   "source": [
    "class Valor:\n",
    "    def __init__(self, data):\n",
    "        self.data = data\n",
    "\n",
    "    def __repr__(self):\n",
    "        return f\"Valor(data={self.data})\""
   ]
  },
  {
   "cell_type": "markdown",
   "metadata": {},
   "source": [
    "Vamos testar nossa classe!\n",
    "\n"
   ]
  },
  {
   "cell_type": "code",
   "execution_count": 3,
   "metadata": {},
   "outputs": [
    {
     "name": "stdout",
     "output_type": "stream",
     "text": [
      "Valor(data=60)\n",
      "60\n"
     ]
    }
   ],
   "source": [
    "x1 = Valor(60)\n",
    "print(x1)\n",
    "print(x1.data)"
   ]
  },
  {
   "cell_type": "markdown",
   "metadata": {},
   "source": [
    "<font color='red'><font size='4'>*Começamos definindo uma classe que irá computar os valores de cada nó do nosso grafo. Assim, ela recebe e armazena o valor inicial.*"
   ]
  },
  {
   "cell_type": "markdown",
   "metadata": {},
   "source": [
    "### Os dunders `__add__` e `__mul__`\n",
    "\n"
   ]
  },
  {
   "cell_type": "markdown",
   "metadata": {},
   "source": [
    "Observe que não conseguimos adicionar nem multiplicar objetos criados com a classe `Valor`.\n",
    "\n"
   ]
  },
  {
   "cell_type": "code",
   "execution_count": 4,
   "metadata": {},
   "outputs": [],
   "source": [
    "a = Valor(10)\n",
    "b = Valor(5)"
   ]
  },
  {
   "cell_type": "code",
   "execution_count": 5,
   "metadata": {},
   "outputs": [
    {
     "ename": "TypeError",
     "evalue": "unsupported operand type(s) for +: 'Valor' and 'Valor'",
     "output_type": "error",
     "traceback": [
      "\u001b[1;31m---------------------------------------------------------------------------\u001b[0m",
      "\u001b[1;31mTypeError\u001b[0m                                 Traceback (most recent call last)",
      "\u001b[1;32mC:\\Users\\JOAO22~1\\AppData\\Local\\Temp/ipykernel_28184/3864629426.py\u001b[0m in \u001b[0;36m<module>\u001b[1;34m\u001b[0m\n\u001b[1;32m----> 1\u001b[1;33m \u001b[0mprint\u001b[0m\u001b[1;33m(\u001b[0m\u001b[0ma\u001b[0m \u001b[1;33m+\u001b[0m \u001b[0mb\u001b[0m\u001b[1;33m)\u001b[0m\u001b[1;33m\u001b[0m\u001b[1;33m\u001b[0m\u001b[0m\n\u001b[0m",
      "\u001b[1;31mTypeError\u001b[0m: unsupported operand type(s) for +: 'Valor' and 'Valor'"
     ]
    }
   ],
   "source": [
    "print(a + b)"
   ]
  },
  {
   "cell_type": "code",
   "execution_count": 6,
   "metadata": {},
   "outputs": [
    {
     "ename": "TypeError",
     "evalue": "unsupported operand type(s) for *: 'Valor' and 'Valor'",
     "output_type": "error",
     "traceback": [
      "\u001b[1;31m---------------------------------------------------------------------------\u001b[0m",
      "\u001b[1;31mTypeError\u001b[0m                                 Traceback (most recent call last)",
      "\u001b[1;32mC:\\Users\\JOAO22~1\\AppData\\Local\\Temp/ipykernel_28184/2640154986.py\u001b[0m in \u001b[0;36m<module>\u001b[1;34m\u001b[0m\n\u001b[1;32m----> 1\u001b[1;33m \u001b[0mprint\u001b[0m\u001b[1;33m(\u001b[0m\u001b[0ma\u001b[0m \u001b[1;33m*\u001b[0m \u001b[0mb\u001b[0m\u001b[1;33m)\u001b[0m\u001b[1;33m\u001b[0m\u001b[1;33m\u001b[0m\u001b[0m\n\u001b[0m",
      "\u001b[1;31mTypeError\u001b[0m: unsupported operand type(s) for *: 'Valor' and 'Valor'"
     ]
    }
   ],
   "source": [
    "print(a * b)"
   ]
  },
  {
   "cell_type": "markdown",
   "metadata": {},
   "source": [
    "Ué&#x2026; porque não conseguimos? Não conseguimos pois o Python (ainda) não é vidente. Ele lá vai saber como adicionar ou multiplicar algo que você criou? Pra você parece óbvio que valores podem ser adicionados ou multiplicados, mas para o Python ele nem sabe o que significa a palavra `Valor`&#x2026;\n",
    "\n",
    "Como sempre, temos que contar para o programa o que queremos que aconteça quando usarmos os operadores `+` e `*`. Quem faz isso são os dunders `__add__` e `__mul__`.\n",
    "\n"
   ]
  },
  {
   "cell_type": "code",
   "execution_count": 7,
   "metadata": {},
   "outputs": [],
   "source": [
    "class Valor:\n",
    "    def __init__(self, data):\n",
    "        self.data = data\n",
    "\n",
    "    def __repr__(self):\n",
    "        return f\"Valor(data={self.data})\"\n",
    "\n",
    "    def __add__(self, outro_valor):\n",
    "        saida = Valor(self.data + outro_valor.data)\n",
    "        return saida\n",
    "\n",
    "    def __mul__(self, outro_valor):\n",
    "        saida = Valor(self.data * outro_valor.data)\n",
    "        return saida"
   ]
  },
  {
   "cell_type": "markdown",
   "metadata": {},
   "source": [
    "Vamos testar!\n",
    "\n"
   ]
  },
  {
   "cell_type": "code",
   "execution_count": 8,
   "metadata": {},
   "outputs": [
    {
     "name": "stdout",
     "output_type": "stream",
     "text": [
      "Valor(data=25) Valor(data=150)\n"
     ]
    }
   ],
   "source": [
    "c = Valor(15)\n",
    "d = Valor(10)\n",
    "e = c + d\n",
    "f = c * d\n",
    "print(e, f)"
   ]
  },
  {
   "cell_type": "markdown",
   "metadata": {},
   "source": [
    "<font color='red'><font size='4'>*Vimos que não conseguimos realizar a soma ou o produto com os valores da classe e isso acontece por causa da falta de definição de uma soma ou produto. Como vimos antes, precisamos determinar como nossa classe interage com funções/operadores/métodos usando os dunders. Assim, após definirmos da forma que achamos mais razoável, podemos obter a interação dos valores da classe com os operadores e assim utilizá-los normalmente.*"
   ]
  },
  {
   "cell_type": "markdown",
   "metadata": {},
   "source": [
    "### Registrando os progenitores\n",
    "\n"
   ]
  },
  {
   "cell_type": "markdown",
   "metadata": {},
   "source": [
    "Nosso objetivo é construir um grafo computacional. Em um grafo computacional, um certo vértice pode ter um ou mais vértices progenitores (são seus pais/mães). Nós não podemos perder essa informação quando formos construir um grafo, então precisamos incluir essa informação na nossa classe.\n",
    "\n"
   ]
  },
  {
   "cell_type": "code",
   "execution_count": 9,
   "metadata": {},
   "outputs": [],
   "source": [
    "class Valor:\n",
    "    def __init__(self, data, progenitor=()):\n",
    "        self.data = data\n",
    "        self.progenitor = progenitor\n",
    "\n",
    "    def __repr__(self):\n",
    "        return f\"Valor(data={self.data})\"\n",
    "\n",
    "    def __add__(self, outro_valor):\n",
    "        data = self.data + outro_valor.data\n",
    "        progenitor = (self, outro_valor)\n",
    "        saida = Valor(data, progenitor)\n",
    "        return saida\n",
    "\n",
    "    def __mul__(self, outro_valor):\n",
    "        data = self.data * outro_valor.data\n",
    "        progenitor = (self, outro_valor)\n",
    "        saida = Valor(data, progenitor)\n",
    "        return saida"
   ]
  },
  {
   "cell_type": "markdown",
   "metadata": {},
   "source": [
    "Vamos testar!\n",
    "\n"
   ]
  },
  {
   "cell_type": "code",
   "execution_count": 10,
   "metadata": {},
   "outputs": [
    {
     "name": "stdout",
     "output_type": "stream",
     "text": [
      "10 ()\n",
      "20 (Valor(data=10), Valor(data=10))\n"
     ]
    }
   ],
   "source": [
    "a = Valor(10)\n",
    "c = a + a\n",
    "\n",
    "print(a.data, a.progenitor)\n",
    "print(c.data, c.progenitor)"
   ]
  },
  {
   "cell_type": "markdown",
   "metadata": {},
   "source": [
    "<font color='red'><font size='4'>*No intuito de formar um grafo para uma sequência de equações, é bom registrar os progenitores, ou seja, os valores usados para encontrar um novo valor. Assim, apenas registramos o valor ao qual um valor foi operado e retornamos ambos.*"
   ]
  },
  {
   "cell_type": "markdown",
   "metadata": {},
   "source": [
    "### Registrando o operador mãe\n",
    "\n"
   ]
  },
  {
   "cell_type": "markdown",
   "metadata": {},
   "source": [
    "Em um grafo computacional, um vértice pode ter um operador mãe. O operador mãe é o operador que foi usado para gerar o vértice.\n",
    "\n"
   ]
  },
  {
   "cell_type": "code",
   "execution_count": 11,
   "metadata": {},
   "outputs": [],
   "source": [
    "class Valor:\n",
    "    def __init__(self, data, progenitor=(), operador_mae=\"\"):\n",
    "        self.data = data\n",
    "        self.progenitor = progenitor\n",
    "        self.operador_mae = operador_mae\n",
    "\n",
    "    def __repr__(self):\n",
    "        return f\"Valor(data={self.data})\"\n",
    "\n",
    "    def __add__(self, outro_valor):\n",
    "        data = self.data + outro_valor.data\n",
    "        progenitor = (self, outro_valor)\n",
    "        operador_mae = \"+\"\n",
    "        saida = Valor(data, progenitor, operador_mae)\n",
    "        return saida\n",
    "\n",
    "    def __mul__(self, outro_valor):\n",
    "        data = self.data * outro_valor.data\n",
    "        progenitor = (self, outro_valor)\n",
    "        operador_mae = \"*\"\n",
    "        saida = Valor(data, progenitor, operador_mae)\n",
    "        return saida"
   ]
  },
  {
   "cell_type": "markdown",
   "metadata": {},
   "source": [
    "Vamos testar!\n",
    "\n"
   ]
  },
  {
   "cell_type": "code",
   "execution_count": 12,
   "metadata": {},
   "outputs": [
    {
     "name": "stdout",
     "output_type": "stream",
     "text": [
      "10 () \n",
      "20 (Valor(data=10), Valor(data=10)) +\n",
      "100 (Valor(data=10), Valor(data=10)) *\n"
     ]
    }
   ],
   "source": [
    "a = Valor(10)\n",
    "c = a + a\n",
    "d = a*a\n",
    "\n",
    "print(a.data, a.progenitor, a.operador_mae)\n",
    "print(c.data, c.progenitor, c.operador_mae)\n",
    "print(d.data, d.progenitor, d.operador_mae)"
   ]
  },
  {
   "cell_type": "markdown",
   "metadata": {},
   "source": [
    "<font color='red'><font size='4'>*Por fim, precisamos apenas registrar a operação que gerou um novo valor. Para isso, armazenamos o símbolo da operação e o retornamos.*"
   ]
  },
  {
   "cell_type": "markdown",
   "metadata": {},
   "source": [
    "### Plotando o primeiro grafo\n",
    "\n"
   ]
  },
  {
   "cell_type": "markdown",
   "metadata": {},
   "source": [
    "Vamos plotar nosso primeiro grafo!\n",
    "\n"
   ]
  },
  {
   "cell_type": "code",
   "execution_count": 13,
   "metadata": {},
   "outputs": [
    {
     "name": "stdout",
     "output_type": "stream",
     "text": [
      "digraph {\n",
      "\tgraph [rankdir=LR]\n",
      "\t1964111029776 [label=\"{ data 2.0000 }\" shape=record]\n",
      "\t1964111029392 [label=\"{ data -6.0000 }\" shape=record]\n",
      "\t\"1964111029392*\" [label=\"*\"]\n",
      "\t\"1964111029392*\" -> 1964111029392\n",
      "\t1964110304112 [label=\"{ data 4.0000 }\" shape=record]\n",
      "\t\"1964110304112+\" [label=\"+\"]\n",
      "\t\"1964110304112+\" -> 1964110304112\n",
      "\t1964111029152 [label=\"{ data 10.0000 }\" shape=record]\n",
      "\t1964111028672 [label=\"{ data -3.0000 }\" shape=record]\n",
      "\t1964111028672 -> \"1964111029392*\"\n",
      "\t1964111029776 -> \"1964111029392*\"\n",
      "\t1964111029152 -> \"1964110304112+\"\n",
      "\t1964111029392 -> \"1964110304112+\"\n",
      "}\n",
      "\n"
     ]
    }
   ],
   "source": [
    "a = Valor(2)\n",
    "b = Valor(-3)\n",
    "c = Valor(10)\n",
    "\n",
    "d = a * b\n",
    "e = d + c\n",
    "\n",
    "g = plota_grafo(e)\n",
    "print(g)"
   ]
  },
  {
   "cell_type": "markdown",
   "metadata": {},
   "source": [
    "<font color='red'><font size='4'>*Com isso, podemos finalmente plotar o grafo da nossa equação, o qual fica devidamente representado e evidencia cada passo feito para chegar no valor final.*"
   ]
  },
  {
   "cell_type": "markdown",
   "metadata": {},
   "source": [
    "### Registrando o rótulo\n",
    "\n"
   ]
  },
  {
   "cell_type": "markdown",
   "metadata": {},
   "source": [
    "Nosso grafo seria mais legível se tivéssemos rótulos indicando o que é cada vértice. Vamos incluir essa informação na nossa classe.\n",
    "\n"
   ]
  },
  {
   "cell_type": "code",
   "execution_count": 14,
   "metadata": {},
   "outputs": [],
   "source": [
    "class Valor:\n",
    "    def __init__(self, data, progenitor=(), operador_mae=\"\", rotulo=\"\"):\n",
    "        self.data = data\n",
    "        self.progenitor = progenitor\n",
    "        self.operador_mae = operador_mae\n",
    "        self.rotulo = rotulo\n",
    "\n",
    "    def __repr__(self):\n",
    "        return f\"Valor(data={self.data})\"\n",
    "\n",
    "    def __add__(self, outro_valor):\n",
    "        data = self.data + outro_valor.data\n",
    "        progenitor = (self, outro_valor)\n",
    "        operador_mae = \"+\"\n",
    "        saida = Valor(data, progenitor, operador_mae)\n",
    "        return saida\n",
    "\n",
    "    def __mul__(self, outro_valor):\n",
    "        data = self.data * outro_valor.data\n",
    "        progenitor = (self, outro_valor)\n",
    "        operador_mae = \"*\"\n",
    "        saida = Valor(data, progenitor, operador_mae)\n",
    "        return saida"
   ]
  },
  {
   "cell_type": "markdown",
   "metadata": {},
   "source": [
    "Vamos testar!\n",
    "\n"
   ]
  },
  {
   "cell_type": "code",
   "execution_count": 15,
   "metadata": {},
   "outputs": [
    {
     "data": {
      "image/svg+xml": [
       "<?xml version=\"1.0\" encoding=\"UTF-8\" standalone=\"no\"?>\n",
       "<!DOCTYPE svg PUBLIC \"-//W3C//DTD SVG 1.1//EN\"\n",
       " \"http://www.w3.org/Graphics/SVG/1.1/DTD/svg11.dtd\">\n",
       "<!-- Generated by graphviz version 6.0.2 (20221011.1828)\n",
       " -->\n",
       "<!-- Pages: 1 -->\n",
       "<svg width=\"585pt\" height=\"127pt\"\n",
       " viewBox=\"0.00 0.00 585.00 127.00\" xmlns=\"http://www.w3.org/2000/svg\" xmlns:xlink=\"http://www.w3.org/1999/xlink\">\n",
       "<g id=\"graph0\" class=\"graph\" transform=\"scale(1 1) rotate(0) translate(4 123)\">\n",
       "<polygon fill=\"white\" stroke=\"none\" points=\"-4,4 -4,-123 581,-123 581,4 -4,4\"/>\n",
       "<!-- 1964110985824 -->\n",
       "<g id=\"node1\" class=\"node\">\n",
       "<title>1964110985824</title>\n",
       "<polygon fill=\"none\" stroke=\"black\" points=\"236.5,-27.5 236.5,-63.5 346.5,-63.5 346.5,-27.5 236.5,-27.5\"/>\n",
       "<text text-anchor=\"middle\" x=\"248.5\" y=\"-41.8\" font-family=\"Times New Roman,serif\" font-size=\"14.00\">d</text>\n",
       "<polyline fill=\"none\" stroke=\"black\" points=\"260.5,-27.5 260.5,-63.5\"/>\n",
       "<text text-anchor=\"middle\" x=\"303.5\" y=\"-41.8\" font-family=\"Times New Roman,serif\" font-size=\"14.00\">data &#45;6.0000</text>\n",
       "</g>\n",
       "<!-- 1964110984480+ -->\n",
       "<g id=\"node5\" class=\"node\">\n",
       "<title>1964110984480+</title>\n",
       "<ellipse fill=\"none\" stroke=\"black\" cx=\"410\" cy=\"-72.5\" rx=\"27\" ry=\"18\"/>\n",
       "<text text-anchor=\"middle\" x=\"410\" y=\"-68.8\" font-family=\"Times New Roman,serif\" font-size=\"14.00\">+</text>\n",
       "</g>\n",
       "<!-- 1964110985824&#45;&gt;1964110984480+ -->\n",
       "<g id=\"edge5\" class=\"edge\">\n",
       "<title>1964110985824&#45;&gt;1964110984480+</title>\n",
       "<path fill=\"none\" stroke=\"black\" d=\"M346.66,-58.05C356.14,-60.25 365.77,-62.48 374.53,-64.51\"/>\n",
       "<polygon fill=\"black\" stroke=\"black\" points=\"373.82,-67.94 384.35,-66.79 375.4,-61.12 373.82,-67.94\"/>\n",
       "</g>\n",
       "<!-- 1964110985824* -->\n",
       "<g id=\"node2\" class=\"node\">\n",
       "<title>1964110985824*</title>\n",
       "<ellipse fill=\"none\" stroke=\"black\" cx=\"173\" cy=\"-45.5\" rx=\"27\" ry=\"18\"/>\n",
       "<text text-anchor=\"middle\" x=\"173\" y=\"-41.8\" font-family=\"Times New Roman,serif\" font-size=\"14.00\">*</text>\n",
       "</g>\n",
       "<!-- 1964110985824*&#45;&gt;1964110985824 -->\n",
       "<g id=\"edge1\" class=\"edge\">\n",
       "<title>1964110985824*&#45;&gt;1964110985824</title>\n",
       "<path fill=\"none\" stroke=\"black\" d=\"M200.14,-45.5C208.03,-45.5 217.05,-45.5 226.28,-45.5\"/>\n",
       "<polygon fill=\"black\" stroke=\"black\" points=\"226.32,-49 236.32,-45.5 226.32,-42 226.32,-49\"/>\n",
       "</g>\n",
       "<!-- 1964110984912 -->\n",
       "<g id=\"node3\" class=\"node\">\n",
       "<title>1964110984912</title>\n",
       "<polygon fill=\"none\" stroke=\"black\" points=\"0,-55.5 0,-91.5 110,-91.5 110,-55.5 0,-55.5\"/>\n",
       "<text text-anchor=\"middle\" x=\"12\" y=\"-69.8\" font-family=\"Times New Roman,serif\" font-size=\"14.00\">b</text>\n",
       "<polyline fill=\"none\" stroke=\"black\" points=\"24,-55.5 24,-91.5\"/>\n",
       "<text text-anchor=\"middle\" x=\"67\" y=\"-69.8\" font-family=\"Times New Roman,serif\" font-size=\"14.00\">data &#45;3.0000</text>\n",
       "</g>\n",
       "<!-- 1964110984912&#45;&gt;1964110985824* -->\n",
       "<g id=\"edge4\" class=\"edge\">\n",
       "<title>1964110984912&#45;&gt;1964110985824*</title>\n",
       "<path fill=\"none\" stroke=\"black\" d=\"M110.26,-60.4C119.49,-58.18 128.84,-55.92 137.37,-53.86\"/>\n",
       "<polygon fill=\"black\" stroke=\"black\" points=\"138.42,-57.21 147.32,-51.46 136.78,-50.4 138.42,-57.21\"/>\n",
       "</g>\n",
       "<!-- 1964110984480 -->\n",
       "<g id=\"node4\" class=\"node\">\n",
       "<title>1964110984480</title>\n",
       "<polygon fill=\"none\" stroke=\"black\" points=\"473,-54.5 473,-90.5 577,-90.5 577,-54.5 473,-54.5\"/>\n",
       "<text text-anchor=\"middle\" x=\"484.5\" y=\"-68.8\" font-family=\"Times New Roman,serif\" font-size=\"14.00\">e</text>\n",
       "<polyline fill=\"none\" stroke=\"black\" points=\"496,-54.5 496,-90.5\"/>\n",
       "<text text-anchor=\"middle\" x=\"536.5\" y=\"-68.8\" font-family=\"Times New Roman,serif\" font-size=\"14.00\">data 4.0000</text>\n",
       "</g>\n",
       "<!-- 1964110984480+&#45;&gt;1964110984480 -->\n",
       "<g id=\"edge2\" class=\"edge\">\n",
       "<title>1964110984480+&#45;&gt;1964110984480</title>\n",
       "<path fill=\"none\" stroke=\"black\" d=\"M437.21,-72.5C444.88,-72.5 453.62,-72.5 462.51,-72.5\"/>\n",
       "<polygon fill=\"black\" stroke=\"black\" points=\"462.58,-76 472.58,-72.5 462.58,-69 462.58,-76\"/>\n",
       "</g>\n",
       "<!-- 1964110986160 -->\n",
       "<g id=\"node6\" class=\"node\">\n",
       "<title>1964110986160</title>\n",
       "<polygon fill=\"none\" stroke=\"black\" points=\"236,-82.5 236,-118.5 347,-118.5 347,-82.5 236,-82.5\"/>\n",
       "<text text-anchor=\"middle\" x=\"247.5\" y=\"-96.8\" font-family=\"Times New Roman,serif\" font-size=\"14.00\">c</text>\n",
       "<polyline fill=\"none\" stroke=\"black\" points=\"259,-82.5 259,-118.5\"/>\n",
       "<text text-anchor=\"middle\" x=\"303\" y=\"-96.8\" font-family=\"Times New Roman,serif\" font-size=\"14.00\">data 10.0000</text>\n",
       "</g>\n",
       "<!-- 1964110986160&#45;&gt;1964110984480+ -->\n",
       "<g id=\"edge3\" class=\"edge\">\n",
       "<title>1964110986160&#45;&gt;1964110984480+</title>\n",
       "<path fill=\"none\" stroke=\"black\" d=\"M347.34,-87.32C356.57,-85.1 365.91,-82.86 374.44,-80.81\"/>\n",
       "<polygon fill=\"black\" stroke=\"black\" points=\"375.47,-84.16 384.38,-78.42 373.84,-77.35 375.47,-84.16\"/>\n",
       "</g>\n",
       "<!-- 1964110983664 -->\n",
       "<g id=\"node7\" class=\"node\">\n",
       "<title>1964110983664</title>\n",
       "<polygon fill=\"none\" stroke=\"black\" points=\"3,-0.5 3,-36.5 107,-36.5 107,-0.5 3,-0.5\"/>\n",
       "<text text-anchor=\"middle\" x=\"14.5\" y=\"-14.8\" font-family=\"Times New Roman,serif\" font-size=\"14.00\">a</text>\n",
       "<polyline fill=\"none\" stroke=\"black\" points=\"26,-0.5 26,-36.5\"/>\n",
       "<text text-anchor=\"middle\" x=\"66.5\" y=\"-14.8\" font-family=\"Times New Roman,serif\" font-size=\"14.00\">data 2.0000</text>\n",
       "</g>\n",
       "<!-- 1964110983664&#45;&gt;1964110985824* -->\n",
       "<g id=\"edge6\" class=\"edge\">\n",
       "<title>1964110983664&#45;&gt;1964110985824*</title>\n",
       "<path fill=\"none\" stroke=\"black\" d=\"M107.22,-30.42C117.47,-32.81 128.01,-35.26 137.53,-37.48\"/>\n",
       "<polygon fill=\"black\" stroke=\"black\" points=\"136.86,-40.91 147.39,-39.77 138.45,-34.1 136.86,-40.91\"/>\n",
       "</g>\n",
       "</g>\n",
       "</svg>\n"
      ],
      "text/plain": [
       "<graphviz.graphs.Digraph at 0x1c94e233880>"
      ]
     },
     "execution_count": 15,
     "metadata": {},
     "output_type": "execute_result"
    }
   ],
   "source": [
    "a = Valor(2, rotulo=\"a\")\n",
    "b = Valor(-3, rotulo=\"b\")\n",
    "c = Valor(10, rotulo=\"c\")\n",
    "\n",
    "d = a * b\n",
    "e = d + c\n",
    "\n",
    "d.rotulo = \"d\"\n",
    "e.rotulo = \"e\"\n",
    "\n",
    "g = plota_grafo(e)\n",
    "g"
   ]
  },
  {
   "cell_type": "markdown",
   "metadata": {},
   "source": [
    "<font color='red'><font size='4'>*Vimos que podemos criar o grafo com os valores, mas falta algo para organizar melhor a leitura dele. Para isso, colocamos as labels de cada nó, as quais representam os valores, sejam de input ou calculados algo longo do processo. Assim, temos o entendimento completo do grafo e nossa classe pode nos ajudar a gerar qualquer grafo.*"
   ]
  },
  {
   "cell_type": "markdown",
   "metadata": {},
   "source": [
    "### Refazendo o grafo que fizemos na aula anterior\n",
    "\n"
   ]
  },
  {
   "cell_type": "markdown",
   "metadata": {},
   "source": [
    "Na aula anterior nós fizemos um grafo computacional para aprender como funciona o backpropagation. Vamos refazer ele aqui!\n",
    "\n"
   ]
  },
  {
   "cell_type": "code",
   "execution_count": 16,
   "metadata": {},
   "outputs": [
    {
     "data": {
      "image/svg+xml": [
       "<?xml version=\"1.0\" encoding=\"UTF-8\" standalone=\"no\"?>\n",
       "<!DOCTYPE svg PUBLIC \"-//W3C//DTD SVG 1.1//EN\"\n",
       " \"http://www.w3.org/Graphics/SVG/1.1/DTD/svg11.dtd\">\n",
       "<!-- Generated by graphviz version 6.0.2 (20221011.1828)\n",
       " -->\n",
       "<!-- Pages: 1 -->\n",
       "<svg width=\"1117pt\" height=\"210pt\"\n",
       " viewBox=\"0.00 0.00 1117.00 210.00\" xmlns=\"http://www.w3.org/2000/svg\" xmlns:xlink=\"http://www.w3.org/1999/xlink\">\n",
       "<g id=\"graph0\" class=\"graph\" transform=\"scale(1 1) rotate(0) translate(4 206)\">\n",
       "<polygon fill=\"white\" stroke=\"none\" points=\"-4,4 -4,-206 1113,-206 1113,4 -4,4\"/>\n",
       "<!-- 1964110304256 -->\n",
       "<g id=\"node1\" class=\"node\">\n",
       "<title>1964110304256</title>\n",
       "<polygon fill=\"none\" stroke=\"black\" points=\"247,-55.5 247,-91.5 371,-91.5 371,-55.5 247,-55.5\"/>\n",
       "<text text-anchor=\"middle\" x=\"261.5\" y=\"-69.8\" font-family=\"Times New Roman,serif\" font-size=\"14.00\">s2</text>\n",
       "<polyline fill=\"none\" stroke=\"black\" points=\"276,-55.5 276,-91.5\"/>\n",
       "<text text-anchor=\"middle\" x=\"323.5\" y=\"-69.8\" font-family=\"Times New Roman,serif\" font-size=\"14.00\">data 120.0000</text>\n",
       "</g>\n",
       "<!-- 1964110305120+ -->\n",
       "<g id=\"node12\" class=\"node\">\n",
       "<title>1964110305120+</title>\n",
       "<ellipse fill=\"none\" stroke=\"black\" cx=\"434\" cy=\"-100.5\" rx=\"27\" ry=\"18\"/>\n",
       "<text text-anchor=\"middle\" x=\"434\" y=\"-96.8\" font-family=\"Times New Roman,serif\" font-size=\"14.00\">+</text>\n",
       "</g>\n",
       "<!-- 1964110304256&#45;&gt;1964110305120+ -->\n",
       "<g id=\"edge14\" class=\"edge\">\n",
       "<title>1964110304256&#45;&gt;1964110305120+</title>\n",
       "<path fill=\"none\" stroke=\"black\" d=\"M371.14,-86.92C380.48,-88.97 389.84,-91.03 398.34,-92.89\"/>\n",
       "<polygon fill=\"black\" stroke=\"black\" points=\"397.72,-96.34 408.24,-95.06 399.22,-89.5 397.72,-96.34\"/>\n",
       "</g>\n",
       "<!-- 1964110304256* -->\n",
       "<g id=\"node2\" class=\"node\">\n",
       "<title>1964110304256*</title>\n",
       "<ellipse fill=\"none\" stroke=\"black\" cx=\"184\" cy=\"-73.5\" rx=\"27\" ry=\"18\"/>\n",
       "<text text-anchor=\"middle\" x=\"184\" y=\"-69.8\" font-family=\"Times New Roman,serif\" font-size=\"14.00\">*</text>\n",
       "</g>\n",
       "<!-- 1964110304256*&#45;&gt;1964110304256 -->\n",
       "<g id=\"edge1\" class=\"edge\">\n",
       "<title>1964110304256*&#45;&gt;1964110304256</title>\n",
       "<path fill=\"none\" stroke=\"black\" d=\"M211.09,-73.5C218.72,-73.5 227.46,-73.5 236.49,-73.5\"/>\n",
       "<polygon fill=\"black\" stroke=\"black\" points=\"236.78,-77 246.78,-73.5 236.78,-70 236.78,-77\"/>\n",
       "</g>\n",
       "<!-- 1964111110208 -->\n",
       "<g id=\"node3\" class=\"node\">\n",
       "<title>1964111110208</title>\n",
       "<polygon fill=\"none\" stroke=\"black\" points=\"1.5,-55.5 1.5,-91.5 119.5,-91.5 119.5,-55.5 1.5,-55.5\"/>\n",
       "<text text-anchor=\"middle\" x=\"16.5\" y=\"-69.8\" font-family=\"Times New Roman,serif\" font-size=\"14.00\">x2</text>\n",
       "<polyline fill=\"none\" stroke=\"black\" points=\"31.5,-55.5 31.5,-91.5\"/>\n",
       "<text text-anchor=\"middle\" x=\"75.5\" y=\"-69.8\" font-family=\"Times New Roman,serif\" font-size=\"14.00\">data 24.0000</text>\n",
       "</g>\n",
       "<!-- 1964111110208&#45;&gt;1964110304256* -->\n",
       "<g id=\"edge6\" class=\"edge\">\n",
       "<title>1964111110208&#45;&gt;1964110304256*</title>\n",
       "<path fill=\"none\" stroke=\"black\" d=\"M119.76,-73.5C128.92,-73.5 138.16,-73.5 146.64,-73.5\"/>\n",
       "<polygon fill=\"black\" stroke=\"black\" points=\"146.91,-77 156.91,-73.5 146.91,-70 146.91,-77\"/>\n",
       "</g>\n",
       "<!-- 1964110305408 -->\n",
       "<g id=\"node4\" class=\"node\">\n",
       "<title>1964110305408</title>\n",
       "<polygon fill=\"none\" stroke=\"black\" points=\"985,-136.5 985,-172.5 1109,-172.5 1109,-136.5 985,-136.5\"/>\n",
       "<text text-anchor=\"middle\" x=\"996.5\" y=\"-150.8\" font-family=\"Times New Roman,serif\" font-size=\"14.00\">y</text>\n",
       "<polyline fill=\"none\" stroke=\"black\" points=\"1008,-136.5 1008,-172.5\"/>\n",
       "<text text-anchor=\"middle\" x=\"1058.5\" y=\"-150.8\" font-family=\"Times New Roman,serif\" font-size=\"14.00\">data 1454.0000</text>\n",
       "</g>\n",
       "<!-- 1964110305408* -->\n",
       "<g id=\"node5\" class=\"node\">\n",
       "<title>1964110305408*</title>\n",
       "<ellipse fill=\"none\" stroke=\"black\" cx=\"922\" cy=\"-154.5\" rx=\"27\" ry=\"18\"/>\n",
       "<text text-anchor=\"middle\" x=\"922\" y=\"-150.8\" font-family=\"Times New Roman,serif\" font-size=\"14.00\">*</text>\n",
       "</g>\n",
       "<!-- 1964110305408*&#45;&gt;1964110305408 -->\n",
       "<g id=\"edge2\" class=\"edge\">\n",
       "<title>1964110305408*&#45;&gt;1964110305408</title>\n",
       "<path fill=\"none\" stroke=\"black\" d=\"M949.09,-154.5C956.72,-154.5 965.46,-154.5 974.49,-154.5\"/>\n",
       "<polygon fill=\"black\" stroke=\"black\" points=\"974.78,-158 984.78,-154.5 974.78,-151 974.78,-158\"/>\n",
       "</g>\n",
       "<!-- 1964110306944 -->\n",
       "<g id=\"node6\" class=\"node\">\n",
       "<title>1964110306944</title>\n",
       "<polygon fill=\"none\" stroke=\"black\" points=\"247,-110.5 247,-146.5 371,-146.5 371,-110.5 247,-110.5\"/>\n",
       "<text text-anchor=\"middle\" x=\"261.5\" y=\"-124.8\" font-family=\"Times New Roman,serif\" font-size=\"14.00\">s1</text>\n",
       "<polyline fill=\"none\" stroke=\"black\" points=\"276,-110.5 276,-146.5\"/>\n",
       "<text text-anchor=\"middle\" x=\"323.5\" y=\"-124.8\" font-family=\"Times New Roman,serif\" font-size=\"14.00\">data 600.0000</text>\n",
       "</g>\n",
       "<!-- 1964110306944&#45;&gt;1964110305120+ -->\n",
       "<g id=\"edge7\" class=\"edge\">\n",
       "<title>1964110306944&#45;&gt;1964110305120+</title>\n",
       "<path fill=\"none\" stroke=\"black\" d=\"M371.14,-114.58C380.48,-112.45 389.84,-110.33 398.34,-108.39\"/>\n",
       "<polygon fill=\"black\" stroke=\"black\" points=\"399.26,-111.77 408.24,-106.14 397.71,-104.94 399.26,-111.77\"/>\n",
       "</g>\n",
       "<!-- 1964110306944* -->\n",
       "<g id=\"node7\" class=\"node\">\n",
       "<title>1964110306944*</title>\n",
       "<ellipse fill=\"none\" stroke=\"black\" cx=\"184\" cy=\"-128.5\" rx=\"27\" ry=\"18\"/>\n",
       "<text text-anchor=\"middle\" x=\"184\" y=\"-124.8\" font-family=\"Times New Roman,serif\" font-size=\"14.00\">*</text>\n",
       "</g>\n",
       "<!-- 1964110306944*&#45;&gt;1964110306944 -->\n",
       "<g id=\"edge3\" class=\"edge\">\n",
       "<title>1964110306944*&#45;&gt;1964110306944</title>\n",
       "<path fill=\"none\" stroke=\"black\" d=\"M211.09,-128.5C218.72,-128.5 227.46,-128.5 236.49,-128.5\"/>\n",
       "<polygon fill=\"black\" stroke=\"black\" points=\"236.78,-132 246.78,-128.5 236.78,-125 236.78,-132\"/>\n",
       "</g>\n",
       "<!-- 1964111110304 -->\n",
       "<g id=\"node8\" class=\"node\">\n",
       "<title>1964111110304</title>\n",
       "<polygon fill=\"none\" stroke=\"black\" points=\"1.5,-165.5 1.5,-201.5 119.5,-201.5 119.5,-165.5 1.5,-165.5\"/>\n",
       "<text text-anchor=\"middle\" x=\"16.5\" y=\"-179.8\" font-family=\"Times New Roman,serif\" font-size=\"14.00\">x1</text>\n",
       "<polyline fill=\"none\" stroke=\"black\" points=\"31.5,-165.5 31.5,-201.5\"/>\n",
       "<text text-anchor=\"middle\" x=\"75.5\" y=\"-179.8\" font-family=\"Times New Roman,serif\" font-size=\"14.00\">data 60.0000</text>\n",
       "</g>\n",
       "<!-- 1964111110304&#45;&gt;1964110306944* -->\n",
       "<g id=\"edge12\" class=\"edge\">\n",
       "<title>1964111110304&#45;&gt;1964110306944*</title>\n",
       "<path fill=\"none\" stroke=\"black\" d=\"M101.28,-165.49C117.79,-158.02 136.65,-149.48 152.09,-142.49\"/>\n",
       "<polygon fill=\"black\" stroke=\"black\" points=\"153.54,-145.68 161.21,-138.36 150.65,-139.3 153.54,-145.68\"/>\n",
       "</g>\n",
       "<!-- 1964111110400 -->\n",
       "<g id=\"node9\" class=\"node\">\n",
       "<title>1964111110400</title>\n",
       "<polygon fill=\"none\" stroke=\"black\" points=\"0,-110.5 0,-146.5 121,-146.5 121,-110.5 0,-110.5\"/>\n",
       "<text text-anchor=\"middle\" x=\"16.5\" y=\"-124.8\" font-family=\"Times New Roman,serif\" font-size=\"14.00\">w1</text>\n",
       "<polyline fill=\"none\" stroke=\"black\" points=\"33,-110.5 33,-146.5\"/>\n",
       "<text text-anchor=\"middle\" x=\"77\" y=\"-124.8\" font-family=\"Times New Roman,serif\" font-size=\"14.00\">data 10.0000</text>\n",
       "</g>\n",
       "<!-- 1964111110400&#45;&gt;1964110306944* -->\n",
       "<g id=\"edge8\" class=\"edge\">\n",
       "<title>1964111110400&#45;&gt;1964110306944*</title>\n",
       "<path fill=\"none\" stroke=\"black\" d=\"M121.18,-128.5C129.86,-128.5 138.57,-128.5 146.6,-128.5\"/>\n",
       "<polygon fill=\"black\" stroke=\"black\" points=\"146.7,-132 156.7,-128.5 146.7,-125 146.7,-132\"/>\n",
       "</g>\n",
       "<!-- 1964110304016 -->\n",
       "<g id=\"node10\" class=\"node\">\n",
       "<title>1964110304016</title>\n",
       "<polygon fill=\"none\" stroke=\"black\" points=\"503.5,-137.5 503.5,-173.5 608.5,-173.5 608.5,-137.5 503.5,-137.5\"/>\n",
       "<text text-anchor=\"middle\" x=\"515.5\" y=\"-151.8\" font-family=\"Times New Roman,serif\" font-size=\"14.00\">b</text>\n",
       "<polyline fill=\"none\" stroke=\"black\" points=\"527.5,-137.5 527.5,-173.5\"/>\n",
       "<text text-anchor=\"middle\" x=\"568\" y=\"-151.8\" font-family=\"Times New Roman,serif\" font-size=\"14.00\">data 7.0000</text>\n",
       "</g>\n",
       "<!-- 1964110306272+ -->\n",
       "<g id=\"node16\" class=\"node\">\n",
       "<title>1964110306272+</title>\n",
       "<ellipse fill=\"none\" stroke=\"black\" cx=\"678\" cy=\"-127.5\" rx=\"27\" ry=\"18\"/>\n",
       "<text text-anchor=\"middle\" x=\"678\" y=\"-123.8\" font-family=\"Times New Roman,serif\" font-size=\"14.00\">+</text>\n",
       "</g>\n",
       "<!-- 1964110304016&#45;&gt;1964110306272+ -->\n",
       "<g id=\"edge15\" class=\"edge\">\n",
       "<title>1964110304016&#45;&gt;1964110306272+</title>\n",
       "<path fill=\"none\" stroke=\"black\" d=\"M608.59,-143.46C619.93,-140.82 631.67,-138.08 642.17,-135.63\"/>\n",
       "<polygon fill=\"black\" stroke=\"black\" points=\"643.24,-138.97 652.18,-133.29 641.65,-132.15 643.24,-138.97\"/>\n",
       "</g>\n",
       "<!-- 1964110305120 -->\n",
       "<g id=\"node11\" class=\"node\">\n",
       "<title>1964110305120</title>\n",
       "<polygon fill=\"none\" stroke=\"black\" points=\"497,-82.5 497,-118.5 615,-118.5 615,-82.5 497,-82.5\"/>\n",
       "<text text-anchor=\"middle\" x=\"508.5\" y=\"-96.8\" font-family=\"Times New Roman,serif\" font-size=\"14.00\">n</text>\n",
       "<polyline fill=\"none\" stroke=\"black\" points=\"520,-82.5 520,-118.5\"/>\n",
       "<text text-anchor=\"middle\" x=\"567.5\" y=\"-96.8\" font-family=\"Times New Roman,serif\" font-size=\"14.00\">data 720.0000</text>\n",
       "</g>\n",
       "<!-- 1964110305120&#45;&gt;1964110306272+ -->\n",
       "<g id=\"edge11\" class=\"edge\">\n",
       "<title>1964110305120&#45;&gt;1964110306272+</title>\n",
       "<path fill=\"none\" stroke=\"black\" d=\"M615.24,-113.6C624.5,-115.69 633.81,-117.78 642.29,-119.69\"/>\n",
       "<polygon fill=\"black\" stroke=\"black\" points=\"641.65,-123.13 652.17,-121.91 643.19,-116.3 641.65,-123.13\"/>\n",
       "</g>\n",
       "<!-- 1964110305120+&#45;&gt;1964110305120 -->\n",
       "<g id=\"edge4\" class=\"edge\">\n",
       "<title>1964110305120+&#45;&gt;1964110305120</title>\n",
       "<path fill=\"none\" stroke=\"black\" d=\"M461.04,-100.5C468.83,-100.5 477.77,-100.5 486.96,-100.5\"/>\n",
       "<polygon fill=\"black\" stroke=\"black\" points=\"487,-104 497,-100.5 487,-97 487,-104\"/>\n",
       "</g>\n",
       "<!-- 1964111114096 -->\n",
       "<g id=\"node13\" class=\"node\">\n",
       "<title>1964111114096</title>\n",
       "<polygon fill=\"none\" stroke=\"black\" points=\"743,-164.5 743,-200.5 857,-200.5 857,-164.5 743,-164.5\"/>\n",
       "<text text-anchor=\"middle\" x=\"759.5\" y=\"-178.8\" font-family=\"Times New Roman,serif\" font-size=\"14.00\">w3</text>\n",
       "<polyline fill=\"none\" stroke=\"black\" points=\"776,-164.5 776,-200.5\"/>\n",
       "<text text-anchor=\"middle\" x=\"816.5\" y=\"-178.8\" font-family=\"Times New Roman,serif\" font-size=\"14.00\">data 2.0000</text>\n",
       "</g>\n",
       "<!-- 1964111114096&#45;&gt;1964110305408* -->\n",
       "<g id=\"edge13\" class=\"edge\">\n",
       "<title>1964111114096&#45;&gt;1964110305408*</title>\n",
       "<path fill=\"none\" stroke=\"black\" d=\"M857.14,-169.4C867.15,-167.06 877.31,-164.69 886.49,-162.55\"/>\n",
       "<polygon fill=\"black\" stroke=\"black\" points=\"887.44,-165.92 896.38,-160.24 885.85,-159.11 887.44,-165.92\"/>\n",
       "</g>\n",
       "<!-- 1964111114192 -->\n",
       "<g id=\"node14\" class=\"node\">\n",
       "<title>1964111114192</title>\n",
       "<polygon fill=\"none\" stroke=\"black\" points=\"3.5,-0.5 3.5,-36.5 117.5,-36.5 117.5,-0.5 3.5,-0.5\"/>\n",
       "<text text-anchor=\"middle\" x=\"20\" y=\"-14.8\" font-family=\"Times New Roman,serif\" font-size=\"14.00\">w2</text>\n",
       "<polyline fill=\"none\" stroke=\"black\" points=\"36.5,-0.5 36.5,-36.5\"/>\n",
       "<text text-anchor=\"middle\" x=\"77\" y=\"-14.8\" font-family=\"Times New Roman,serif\" font-size=\"14.00\">data 5.0000</text>\n",
       "</g>\n",
       "<!-- 1964111114192&#45;&gt;1964110304256* -->\n",
       "<g id=\"edge10\" class=\"edge\">\n",
       "<title>1964111114192&#45;&gt;1964110304256*</title>\n",
       "<path fill=\"none\" stroke=\"black\" d=\"M101.28,-36.51C117.79,-43.98 136.65,-52.52 152.09,-59.51\"/>\n",
       "<polygon fill=\"black\" stroke=\"black\" points=\"150.65,-62.7 161.21,-63.64 153.54,-56.32 150.65,-62.7\"/>\n",
       "</g>\n",
       "<!-- 1964110306272 -->\n",
       "<g id=\"node15\" class=\"node\">\n",
       "<title>1964110306272</title>\n",
       "<polygon fill=\"none\" stroke=\"black\" points=\"741,-109.5 741,-145.5 859,-145.5 859,-109.5 741,-109.5\"/>\n",
       "<text text-anchor=\"middle\" x=\"752.5\" y=\"-123.8\" font-family=\"Times New Roman,serif\" font-size=\"14.00\">k</text>\n",
       "<polyline fill=\"none\" stroke=\"black\" points=\"764,-109.5 764,-145.5\"/>\n",
       "<text text-anchor=\"middle\" x=\"811.5\" y=\"-123.8\" font-family=\"Times New Roman,serif\" font-size=\"14.00\">data 727.0000</text>\n",
       "</g>\n",
       "<!-- 1964110306272&#45;&gt;1964110305408* -->\n",
       "<g id=\"edge9\" class=\"edge\">\n",
       "<title>1964110306272&#45;&gt;1964110305408*</title>\n",
       "<path fill=\"none\" stroke=\"black\" d=\"M859.24,-140.6C868.5,-142.69 877.81,-144.78 886.29,-146.69\"/>\n",
       "<polygon fill=\"black\" stroke=\"black\" points=\"885.65,-150.13 896.17,-148.91 887.19,-143.3 885.65,-150.13\"/>\n",
       "</g>\n",
       "<!-- 1964110306272+&#45;&gt;1964110306272 -->\n",
       "<g id=\"edge5\" class=\"edge\">\n",
       "<title>1964110306272+&#45;&gt;1964110306272</title>\n",
       "<path fill=\"none\" stroke=\"black\" d=\"M705.04,-127.5C712.83,-127.5 721.77,-127.5 730.96,-127.5\"/>\n",
       "<polygon fill=\"black\" stroke=\"black\" points=\"731,-131 741,-127.5 731,-124 731,-131\"/>\n",
       "</g>\n",
       "</g>\n",
       "</svg>\n"
      ],
      "text/plain": [
       "<graphviz.graphs.Digraph at 0x1c94e18dbb0>"
      ]
     },
     "execution_count": 16,
     "metadata": {},
     "output_type": "execute_result"
    }
   ],
   "source": [
    "x1 = Valor(60, rotulo='x1')\n",
    "x2 = Valor(24, rotulo='x2')\n",
    "w1 = Valor(10, rotulo='w1')\n",
    "w2 = Valor(5, rotulo='w2')\n",
    "w3 = Valor(2, rotulo='w3')\n",
    "b = Valor(7, rotulo='b')\n",
    "\n",
    "s1 = x1*w1\n",
    "s1.rotulo = 's1'\n",
    "s2 = x2*w2\n",
    "s2.rotulo = 's2'\n",
    "\n",
    "n = s1+s2\n",
    "n.rotulo = 'n'\n",
    "\n",
    "k = n+b\n",
    "k.rotulo = 'k'\n",
    "\n",
    "y = k*w3\n",
    "y.rotulo = 'y'\n",
    "\n",
    "g = plota_grafo(y)\n",
    "g"
   ]
  },
  {
   "cell_type": "markdown",
   "metadata": {},
   "source": [
    "<font color='red'><font size='4'>*Finalizando, aqui reproduzimos um grafo construido conjuntamente em sala de aula, onde havia um contexto climático que serviu apenas de inspiração para colocarmos valores iniciais razoáveis. Dessa forma, usamos a classe criada para operar os valores e conferir suas respectivas labels. Com isso, temos as informações necessárias para construir o grafo (valor, progenitores, operação e label).*"
   ]
  },
  {
   "cell_type": "markdown",
   "metadata": {},
   "source": [
    "## Conclusão\n",
    "\n"
   ]
  },
  {
   "cell_type": "markdown",
   "metadata": {},
   "source": [
    "<font color='red'><font size='4'>*Nesse experimento, vimos a construção de uma classe no intuito de produzir um grafo, o qual deveria reproduzir uma sequência de equações matemáticas para encontrar um valor final desejado. Assim, a classe foi aos poucos incorporando as características necessárias para isso, os valores iniciais, a possibilidade de operá-los, o armazenamento dos valores usados para criar um novo e a operação usada e a label que representa o valor. A partir disso, a biblioteca de grafos possui todas as informações para nos fornecer o grafo e sua visualização. Logo, é notável que o uso de classes se mostra extremamente satisfatório para nos ajudar nesse contexto, já que o uso de funções e listas apenas poderia gerar confusão e com certeza nos daria mais trabalho.*"
   ]
  },
  {
   "cell_type": "markdown",
   "metadata": {},
   "source": [
    "## Playground\n",
    "\n"
   ]
  },
  {
   "cell_type": "markdown",
   "metadata": {},
   "source": [
    "#### <font color='yellow'><font size='4'>Resolvendo um problema de álgebra"
   ]
  },
  {
   "cell_type": "markdown",
   "metadata": {},
   "source": [
    "Dado um espaço vetorial $\\mathcal{V}$ com as seguintes definições de soma e produto entre dois vetores $u = (a,b)$ e $v = (c,d)$:\n",
    "- $$u + v = (a + d, b + c)$$\n",
    "- $$u \\cdot v = (a \\cdot d, b \\cdot c)$$\n",
    "onde $a,b,c,d \\in \\mathcal{R}$, determine se $\\mathcal{V}$ é, de fato, um espaço vetorial. "
   ]
  },
  {
   "cell_type": "code",
   "execution_count": 17,
   "metadata": {},
   "outputs": [],
   "source": [
    "class Valor:\n",
    "    def __init__(self, data, progenitor=(), operador_mae=\"\", rotulo=\"\"):\n",
    "        self.data = data\n",
    "        self.progenitor = progenitor\n",
    "        self.operador_mae = operador_mae\n",
    "        self.rotulo = rotulo\n",
    "\n",
    "    def __repr__(self):\n",
    "        return f\"Valor(data={self.data})\"\n",
    "\n",
    "    def __add__(self, outro_valor):\n",
    "        for i in range(len(self.data)):\n",
    "            #print(self.data, outro_valor.data, self.data[i], outro_valor.data[1 - i])\n",
    "            self.data[i] = self.data[i] + outro_valor.data[1 - i]\n",
    "        #data = self.data + outro_valor.data\n",
    "        progenitor = (self, outro_valor)\n",
    "        operador_mae = \"+\"\n",
    "        saida = Valor(self.data, progenitor, operador_mae)\n",
    "        return saida\n",
    "\n",
    "    def __mul__(self, outro_valor):\n",
    "        for i in range(len(self.data)):\n",
    "            #print(self.data, outro_valor.data, self.data[i], outro_valor.data[1 - i])\n",
    "            self.data[i] = self.data[i] * outro_valor.data[1 - i]\n",
    "        #data = self.data * outro_valor.data\n",
    "        progenitor = (self, outro_valor)\n",
    "        operador_mae = \"*\"\n",
    "        saida = Valor(self.data, progenitor, operador_mae)\n",
    "        return saida"
   ]
  },
  {
   "cell_type": "code",
   "execution_count": 18,
   "metadata": {},
   "outputs": [],
   "source": [
    "a = 2\n",
    "b = -6\n",
    "c = 3\n",
    "d = 1"
   ]
  },
  {
   "cell_type": "code",
   "execution_count": 19,
   "metadata": {},
   "outputs": [
    {
     "name": "stdout",
     "output_type": "stream",
     "text": [
      "Valor(data=[2, -6]) Valor(data=[3, 1])\n"
     ]
    }
   ],
   "source": [
    "u = Valor([a,b])\n",
    "v = Valor([c,d])\n",
    "print(u, v)"
   ]
  },
  {
   "cell_type": "code",
   "execution_count": 20,
   "metadata": {},
   "outputs": [
    {
     "name": "stdout",
     "output_type": "stream",
     "text": [
      "Valor(data=[3, -3])\n"
     ]
    }
   ],
   "source": [
    "print(u + v)"
   ]
  },
  {
   "cell_type": "code",
   "execution_count": 21,
   "metadata": {},
   "outputs": [
    {
     "name": "stdout",
     "output_type": "stream",
     "text": [
      "Valor(data=[3, -9])\n"
     ]
    }
   ],
   "source": [
    "print(u * v)"
   ]
  },
  {
   "cell_type": "code",
   "execution_count": null,
   "metadata": {},
   "outputs": [],
   "source": []
  },
  {
   "cell_type": "code",
   "execution_count": null,
   "metadata": {},
   "outputs": [],
   "source": []
  }
 ],
 "metadata": {
  "kernelspec": {
   "display_name": "ilumpy",
   "language": "python",
   "name": "ilumpy"
  },
  "language_info": {
   "codemirror_mode": {
    "name": "ipython",
    "version": 3
   },
   "file_extension": ".py",
   "mimetype": "text/x-python",
   "name": "python",
   "nbconvert_exporter": "python",
   "pygments_lexer": "ipython3",
   "version": "3.9.7"
  },
  "org": null
 },
 "nbformat": 4,
 "nbformat_minor": 4
}
